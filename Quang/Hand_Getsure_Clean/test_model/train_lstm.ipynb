{
 "cells": [
  {
   "cell_type": "code",
   "execution_count": 64,
   "metadata": {},
   "outputs": [],
   "source": [
    "import csv\n",
    "import os\n",
    "\n",
    "import numpy as np\n",
    "import tensorflow as tf\n",
    "from sklearn.model_selection import train_test_split\n",
    "import pandas as pd\n",
    "import seaborn as sns\n",
    "import matplotlib.pyplot as plt\n",
    "from sklearn.metrics import confusion_matrix, classification_report"
   ]
  },
  {
   "cell_type": "code",
   "execution_count": 65,
   "metadata": {},
   "outputs": [
    {
     "name": "stdout",
     "output_type": "stream",
     "text": [
      "File exists: C:/GroupPJ/USTHGroupProject/Quang/Hand_Getsure_Clean/data/new_keypoint.csv\n",
      "File exists: C:/GroupPJ/USTHGroupProject/Quang/Hand_Getsure_Clean/model save point/keypoint_classifier_lstm.keras\n",
      "File exists: C:/GroupPJ/USTHGroupProject/Quang/Hand_Getsure_Clean/model save point/keypoint_classifier_lstm.tflite\n",
      "File exists: C:/GroupPJ/USTHGroupProject/Quang/Hand_Getsure_Clean/data/keypoint_classifier_label.csv\n"
     ]
    }
   ],
   "source": [
    "dataset = 'C:/GroupPJ/USTHGroupProject/Quang/Hand_Getsure_Clean/data/new_keypoint.csv'\n",
    "model_save_path = 'C:/GroupPJ/USTHGroupProject/Quang/Hand_Getsure_Clean/model save point/keypoint_classifier_lstm.keras'\n",
    "tflite_save_path = 'C:/GroupPJ/USTHGroupProject/Quang/Hand_Getsure_Clean/model save point/keypoint_classifier_lstm.tflite'\n",
    "label_file_path = 'C:/GroupPJ/USTHGroupProject/Quang/Hand_Getsure_Clean/data/keypoint_classifier_label.csv'\n",
    "# Function to check if a file exists\n",
    "def check_file_path(file_path):\n",
    "    if os.path.exists(file_path):\n",
    "        if os.path.isfile(file_path):\n",
    "            print(f\"File exists: {file_path}\")\n",
    "        else:\n",
    "            print(f\"Path exists, but it's not a file: {file_path}\")\n",
    "    else:\n",
    "        print(f\"File does not exist: {file_path}\")\n",
    "\n",
    "# Check each file\n",
    "check_file_path(dataset)\n",
    "check_file_path(model_save_path)\n",
    "check_file_path(tflite_save_path)\n",
    "check_file_path(label_file_path)\n"
   ]
  },
  {
   "cell_type": "code",
   "execution_count": 66,
   "metadata": {},
   "outputs": [
    {
     "data": {
      "text/plain": [
       "6"
      ]
     },
     "execution_count": 66,
     "metadata": {},
     "output_type": "execute_result"
    }
   ],
   "source": [
    "df = pd.read_csv(label_file_path, header=None)\n",
    "num_classes= len(df)\n",
    "num_classes"
   ]
  },
  {
   "cell_type": "code",
   "execution_count": 67,
   "metadata": {},
   "outputs": [],
   "source": [
    "X_dataset = np.loadtxt(dataset, delimiter=',', dtype=np.float32, skiprows=1, usecols=list(range(1, (21*2)+1)))\n",
    "y_dataset = np.loadtxt(dataset, delimiter=',', dtype=np.int32, skiprows=1, usecols=(0))"
   ]
  },
  {
   "cell_type": "code",
   "execution_count": 68,
   "metadata": {},
   "outputs": [],
   "source": [
    "X_train, X_test, y_train, y_test = train_test_split(X_dataset, y_dataset, test_size=0.25, random_state=42)"
   ]
  },
  {
   "cell_type": "code",
   "execution_count": 69,
   "metadata": {},
   "outputs": [
    {
     "name": "stdout",
     "output_type": "stream",
     "text": [
      "(3931, 42)\n",
      "(1311, 42)\n"
     ]
    }
   ],
   "source": [
    "print(X_train.shape)  \n",
    "print(X_test.shape)   \n"
   ]
  },
  {
   "cell_type": "code",
   "execution_count": 70,
   "metadata": {},
   "outputs": [],
   "source": [
    "# # Reshape the training and testing data\n",
    "# X_train = X_train.reshape(-1, 21, 2)  # Reshape to (batch_size, 21, 2)\n",
    "# X_test = X_test.reshape(-1, 21, 2)    # Reshape to (batch_size, 21, 2)\n",
    "# print(X_train.shape)  # Should be (num_samples, 21, 2)\n",
    "# print(X_test.shape)   # Should be (num_samples, 21, 2)\n",
    "\n"
   ]
  },
  {
   "cell_type": "code",
   "execution_count": 71,
   "metadata": {},
   "outputs": [],
   "source": [
    "# model = tf.keras.models.Sequential([\n",
    "#     tf.keras.layers.Input((21, 2)),  # Reshape to 21 timesteps, 2 features\n",
    "#     tf.keras.layers.Dropout(0.2),\n",
    "#     tf.keras.layers.LSTM(20),\n",
    "#     tf.keras.layers.Dropout(0.5),\n",
    "#     tf.keras.layers.Dense(10, activation='relu'),\n",
    "#     tf.keras.layers.Dense(num_classes, activation='softmax')\n",
    "# ])\n"
   ]
  },
  {
   "cell_type": "code",
   "execution_count": 72,
   "metadata": {},
   "outputs": [
    {
     "data": {
      "text/html": [
       "<pre style=\"white-space:pre;overflow-x:auto;line-height:normal;font-family:Menlo,'DejaVu Sans Mono',consolas,'Courier New',monospace\"><span style=\"font-weight: bold\">Model: \"sequential_9\"</span>\n",
       "</pre>\n"
      ],
      "text/plain": [
       "\u001b[1mModel: \"sequential_9\"\u001b[0m\n"
      ]
     },
     "metadata": {},
     "output_type": "display_data"
    },
    {
     "data": {
      "text/html": [
       "<pre style=\"white-space:pre;overflow-x:auto;line-height:normal;font-family:Menlo,'DejaVu Sans Mono',consolas,'Courier New',monospace\">┏━━━━━━━━━━━━━━━━━━━━━━━━━━━━━━━━━┳━━━━━━━━━━━━━━━━━━━━━━━━┳━━━━━━━━━━━━━━━┓\n",
       "┃<span style=\"font-weight: bold\"> Layer (type)                    </span>┃<span style=\"font-weight: bold\"> Output Shape           </span>┃<span style=\"font-weight: bold\">       Param # </span>┃\n",
       "┡━━━━━━━━━━━━━━━━━━━━━━━━━━━━━━━━━╇━━━━━━━━━━━━━━━━━━━━━━━━╇━━━━━━━━━━━━━━━┩\n",
       "│ dropout_14 (<span style=\"color: #0087ff; text-decoration-color: #0087ff\">Dropout</span>)            │ (<span style=\"color: #00d7ff; text-decoration-color: #00d7ff\">None</span>, <span style=\"color: #00af00; text-decoration-color: #00af00\">21</span>, <span style=\"color: #00af00; text-decoration-color: #00af00\">2</span>)          │             <span style=\"color: #00af00; text-decoration-color: #00af00\">0</span> │\n",
       "├─────────────────────────────────┼────────────────────────┼───────────────┤\n",
       "│ lstm_7 (<span style=\"color: #0087ff; text-decoration-color: #0087ff\">LSTM</span>)                   │ (<span style=\"color: #00d7ff; text-decoration-color: #00d7ff\">None</span>, <span style=\"color: #00af00; text-decoration-color: #00af00\">20</span>)             │         <span style=\"color: #00af00; text-decoration-color: #00af00\">1,840</span> │\n",
       "├─────────────────────────────────┼────────────────────────┼───────────────┤\n",
       "│ dropout_15 (<span style=\"color: #0087ff; text-decoration-color: #0087ff\">Dropout</span>)            │ (<span style=\"color: #00d7ff; text-decoration-color: #00d7ff\">None</span>, <span style=\"color: #00af00; text-decoration-color: #00af00\">20</span>)             │             <span style=\"color: #00af00; text-decoration-color: #00af00\">0</span> │\n",
       "├─────────────────────────────────┼────────────────────────┼───────────────┤\n",
       "│ dense_14 (<span style=\"color: #0087ff; text-decoration-color: #0087ff\">Dense</span>)                │ (<span style=\"color: #00d7ff; text-decoration-color: #00d7ff\">None</span>, <span style=\"color: #00af00; text-decoration-color: #00af00\">10</span>)             │           <span style=\"color: #00af00; text-decoration-color: #00af00\">210</span> │\n",
       "├─────────────────────────────────┼────────────────────────┼───────────────┤\n",
       "│ dense_15 (<span style=\"color: #0087ff; text-decoration-color: #0087ff\">Dense</span>)                │ (<span style=\"color: #00d7ff; text-decoration-color: #00d7ff\">None</span>, <span style=\"color: #00af00; text-decoration-color: #00af00\">6</span>)              │            <span style=\"color: #00af00; text-decoration-color: #00af00\">66</span> │\n",
       "└─────────────────────────────────┴────────────────────────┴───────────────┘\n",
       "</pre>\n"
      ],
      "text/plain": [
       "┏━━━━━━━━━━━━━━━━━━━━━━━━━━━━━━━━━┳━━━━━━━━━━━━━━━━━━━━━━━━┳━━━━━━━━━━━━━━━┓\n",
       "┃\u001b[1m \u001b[0m\u001b[1mLayer (type)                   \u001b[0m\u001b[1m \u001b[0m┃\u001b[1m \u001b[0m\u001b[1mOutput Shape          \u001b[0m\u001b[1m \u001b[0m┃\u001b[1m \u001b[0m\u001b[1m      Param #\u001b[0m\u001b[1m \u001b[0m┃\n",
       "┡━━━━━━━━━━━━━━━━━━━━━━━━━━━━━━━━━╇━━━━━━━━━━━━━━━━━━━━━━━━╇━━━━━━━━━━━━━━━┩\n",
       "│ dropout_14 (\u001b[38;5;33mDropout\u001b[0m)            │ (\u001b[38;5;45mNone\u001b[0m, \u001b[38;5;34m21\u001b[0m, \u001b[38;5;34m2\u001b[0m)          │             \u001b[38;5;34m0\u001b[0m │\n",
       "├─────────────────────────────────┼────────────────────────┼───────────────┤\n",
       "│ lstm_7 (\u001b[38;5;33mLSTM\u001b[0m)                   │ (\u001b[38;5;45mNone\u001b[0m, \u001b[38;5;34m20\u001b[0m)             │         \u001b[38;5;34m1,840\u001b[0m │\n",
       "├─────────────────────────────────┼────────────────────────┼───────────────┤\n",
       "│ dropout_15 (\u001b[38;5;33mDropout\u001b[0m)            │ (\u001b[38;5;45mNone\u001b[0m, \u001b[38;5;34m20\u001b[0m)             │             \u001b[38;5;34m0\u001b[0m │\n",
       "├─────────────────────────────────┼────────────────────────┼───────────────┤\n",
       "│ dense_14 (\u001b[38;5;33mDense\u001b[0m)                │ (\u001b[38;5;45mNone\u001b[0m, \u001b[38;5;34m10\u001b[0m)             │           \u001b[38;5;34m210\u001b[0m │\n",
       "├─────────────────────────────────┼────────────────────────┼───────────────┤\n",
       "│ dense_15 (\u001b[38;5;33mDense\u001b[0m)                │ (\u001b[38;5;45mNone\u001b[0m, \u001b[38;5;34m6\u001b[0m)              │            \u001b[38;5;34m66\u001b[0m │\n",
       "└─────────────────────────────────┴────────────────────────┴───────────────┘\n"
      ]
     },
     "metadata": {},
     "output_type": "display_data"
    },
    {
     "data": {
      "text/html": [
       "<pre style=\"white-space:pre;overflow-x:auto;line-height:normal;font-family:Menlo,'DejaVu Sans Mono',consolas,'Courier New',monospace\"><span style=\"font-weight: bold\"> Total params: </span><span style=\"color: #00af00; text-decoration-color: #00af00\">2,116</span> (8.27 KB)\n",
       "</pre>\n"
      ],
      "text/plain": [
       "\u001b[1m Total params: \u001b[0m\u001b[38;5;34m2,116\u001b[0m (8.27 KB)\n"
      ]
     },
     "metadata": {},
     "output_type": "display_data"
    },
    {
     "data": {
      "text/html": [
       "<pre style=\"white-space:pre;overflow-x:auto;line-height:normal;font-family:Menlo,'DejaVu Sans Mono',consolas,'Courier New',monospace\"><span style=\"font-weight: bold\"> Trainable params: </span><span style=\"color: #00af00; text-decoration-color: #00af00\">2,116</span> (8.27 KB)\n",
       "</pre>\n"
      ],
      "text/plain": [
       "\u001b[1m Trainable params: \u001b[0m\u001b[38;5;34m2,116\u001b[0m (8.27 KB)\n"
      ]
     },
     "metadata": {},
     "output_type": "display_data"
    },
    {
     "data": {
      "text/html": [
       "<pre style=\"white-space:pre;overflow-x:auto;line-height:normal;font-family:Menlo,'DejaVu Sans Mono',consolas,'Courier New',monospace\"><span style=\"font-weight: bold\"> Non-trainable params: </span><span style=\"color: #00af00; text-decoration-color: #00af00\">0</span> (0.00 B)\n",
       "</pre>\n"
      ],
      "text/plain": [
       "\u001b[1m Non-trainable params: \u001b[0m\u001b[38;5;34m0\u001b[0m (0.00 B)\n"
      ]
     },
     "metadata": {},
     "output_type": "display_data"
    }
   ],
   "source": [
    "# model.summary()"
   ]
  },
  {
   "cell_type": "code",
   "execution_count": 73,
   "metadata": {},
   "outputs": [
    {
     "name": "stderr",
     "output_type": "stream",
     "text": [
      "c:\\Users\\dangq\\AppData\\Local\\Programs\\Python\\Python310\\lib\\site-packages\\keras\\src\\layers\\rnn\\rnn.py:204: UserWarning: Do not pass an `input_shape`/`input_dim` argument to a layer. When using Sequential models, prefer using an `Input(shape)` object as the first layer in the model instead.\n",
      "  super().__init__(**kwargs)\n"
     ]
    },
    {
     "data": {
      "text/html": [
       "<pre style=\"white-space:pre;overflow-x:auto;line-height:normal;font-family:Menlo,'DejaVu Sans Mono',consolas,'Courier New',monospace\"><span style=\"font-weight: bold\">Model: \"sequential_10\"</span>\n",
       "</pre>\n"
      ],
      "text/plain": [
       "\u001b[1mModel: \"sequential_10\"\u001b[0m\n"
      ]
     },
     "metadata": {},
     "output_type": "display_data"
    },
    {
     "data": {
      "text/html": [
       "<pre style=\"white-space:pre;overflow-x:auto;line-height:normal;font-family:Menlo,'DejaVu Sans Mono',consolas,'Courier New',monospace\">┏━━━━━━━━━━━━━━━━━━━━━━━━━━━━━━━━━┳━━━━━━━━━━━━━━━━━━━━━━━━┳━━━━━━━━━━━━━━━┓\n",
       "┃<span style=\"font-weight: bold\"> Layer (type)                    </span>┃<span style=\"font-weight: bold\"> Output Shape           </span>┃<span style=\"font-weight: bold\">       Param # </span>┃\n",
       "┡━━━━━━━━━━━━━━━━━━━━━━━━━━━━━━━━━╇━━━━━━━━━━━━━━━━━━━━━━━━╇━━━━━━━━━━━━━━━┩\n",
       "│ lstm_input (<span style=\"color: #0087ff; text-decoration-color: #0087ff\">LSTM</span>)               │ (<span style=\"color: #00d7ff; text-decoration-color: #00d7ff\">None</span>, <span style=\"color: #00af00; text-decoration-color: #00af00\">42</span>, <span style=\"color: #00af00; text-decoration-color: #00af00\">256</span>)        │       <span style=\"color: #00af00; text-decoration-color: #00af00\">264,192</span> │\n",
       "├─────────────────────────────────┼────────────────────────┼───────────────┤\n",
       "│ dropout_1 (<span style=\"color: #0087ff; text-decoration-color: #0087ff\">Dropout</span>)             │ (<span style=\"color: #00d7ff; text-decoration-color: #00d7ff\">None</span>, <span style=\"color: #00af00; text-decoration-color: #00af00\">42</span>, <span style=\"color: #00af00; text-decoration-color: #00af00\">256</span>)        │             <span style=\"color: #00af00; text-decoration-color: #00af00\">0</span> │\n",
       "├─────────────────────────────────┼────────────────────────┼───────────────┤\n",
       "│ lstm_1 (<span style=\"color: #0087ff; text-decoration-color: #0087ff\">LSTM</span>)                   │ (<span style=\"color: #00d7ff; text-decoration-color: #00d7ff\">None</span>, <span style=\"color: #00af00; text-decoration-color: #00af00\">42</span>, <span style=\"color: #00af00; text-decoration-color: #00af00\">128</span>)        │       <span style=\"color: #00af00; text-decoration-color: #00af00\">197,120</span> │\n",
       "├─────────────────────────────────┼────────────────────────┼───────────────┤\n",
       "│ dropout_2 (<span style=\"color: #0087ff; text-decoration-color: #0087ff\">Dropout</span>)             │ (<span style=\"color: #00d7ff; text-decoration-color: #00d7ff\">None</span>, <span style=\"color: #00af00; text-decoration-color: #00af00\">42</span>, <span style=\"color: #00af00; text-decoration-color: #00af00\">128</span>)        │             <span style=\"color: #00af00; text-decoration-color: #00af00\">0</span> │\n",
       "├─────────────────────────────────┼────────────────────────┼───────────────┤\n",
       "│ lstm_2 (<span style=\"color: #0087ff; text-decoration-color: #0087ff\">LSTM</span>)                   │ (<span style=\"color: #00d7ff; text-decoration-color: #00d7ff\">None</span>, <span style=\"color: #00af00; text-decoration-color: #00af00\">42</span>, <span style=\"color: #00af00; text-decoration-color: #00af00\">64</span>)         │        <span style=\"color: #00af00; text-decoration-color: #00af00\">49,408</span> │\n",
       "├─────────────────────────────────┼────────────────────────┼───────────────┤\n",
       "│ dropout_3 (<span style=\"color: #0087ff; text-decoration-color: #0087ff\">Dropout</span>)             │ (<span style=\"color: #00d7ff; text-decoration-color: #00d7ff\">None</span>, <span style=\"color: #00af00; text-decoration-color: #00af00\">42</span>, <span style=\"color: #00af00; text-decoration-color: #00af00\">64</span>)         │             <span style=\"color: #00af00; text-decoration-color: #00af00\">0</span> │\n",
       "├─────────────────────────────────┼────────────────────────┼───────────────┤\n",
       "│ lstm_3 (<span style=\"color: #0087ff; text-decoration-color: #0087ff\">LSTM</span>)                   │ (<span style=\"color: #00d7ff; text-decoration-color: #00d7ff\">None</span>, <span style=\"color: #00af00; text-decoration-color: #00af00\">16</span>)             │         <span style=\"color: #00af00; text-decoration-color: #00af00\">5,184</span> │\n",
       "├─────────────────────────────────┼────────────────────────┼───────────────┤\n",
       "│ dropout_4 (<span style=\"color: #0087ff; text-decoration-color: #0087ff\">Dropout</span>)             │ (<span style=\"color: #00d7ff; text-decoration-color: #00d7ff\">None</span>, <span style=\"color: #00af00; text-decoration-color: #00af00\">16</span>)             │             <span style=\"color: #00af00; text-decoration-color: #00af00\">0</span> │\n",
       "├─────────────────────────────────┼────────────────────────┼───────────────┤\n",
       "│ dense_1 (<span style=\"color: #0087ff; text-decoration-color: #0087ff\">Dense</span>)                 │ (<span style=\"color: #00d7ff; text-decoration-color: #00d7ff\">None</span>, <span style=\"color: #00af00; text-decoration-color: #00af00\">6</span>)              │           <span style=\"color: #00af00; text-decoration-color: #00af00\">102</span> │\n",
       "└─────────────────────────────────┴────────────────────────┴───────────────┘\n",
       "</pre>\n"
      ],
      "text/plain": [
       "┏━━━━━━━━━━━━━━━━━━━━━━━━━━━━━━━━━┳━━━━━━━━━━━━━━━━━━━━━━━━┳━━━━━━━━━━━━━━━┓\n",
       "┃\u001b[1m \u001b[0m\u001b[1mLayer (type)                   \u001b[0m\u001b[1m \u001b[0m┃\u001b[1m \u001b[0m\u001b[1mOutput Shape          \u001b[0m\u001b[1m \u001b[0m┃\u001b[1m \u001b[0m\u001b[1m      Param #\u001b[0m\u001b[1m \u001b[0m┃\n",
       "┡━━━━━━━━━━━━━━━━━━━━━━━━━━━━━━━━━╇━━━━━━━━━━━━━━━━━━━━━━━━╇━━━━━━━━━━━━━━━┩\n",
       "│ lstm_input (\u001b[38;5;33mLSTM\u001b[0m)               │ (\u001b[38;5;45mNone\u001b[0m, \u001b[38;5;34m42\u001b[0m, \u001b[38;5;34m256\u001b[0m)        │       \u001b[38;5;34m264,192\u001b[0m │\n",
       "├─────────────────────────────────┼────────────────────────┼───────────────┤\n",
       "│ dropout_1 (\u001b[38;5;33mDropout\u001b[0m)             │ (\u001b[38;5;45mNone\u001b[0m, \u001b[38;5;34m42\u001b[0m, \u001b[38;5;34m256\u001b[0m)        │             \u001b[38;5;34m0\u001b[0m │\n",
       "├─────────────────────────────────┼────────────────────────┼───────────────┤\n",
       "│ lstm_1 (\u001b[38;5;33mLSTM\u001b[0m)                   │ (\u001b[38;5;45mNone\u001b[0m, \u001b[38;5;34m42\u001b[0m, \u001b[38;5;34m128\u001b[0m)        │       \u001b[38;5;34m197,120\u001b[0m │\n",
       "├─────────────────────────────────┼────────────────────────┼───────────────┤\n",
       "│ dropout_2 (\u001b[38;5;33mDropout\u001b[0m)             │ (\u001b[38;5;45mNone\u001b[0m, \u001b[38;5;34m42\u001b[0m, \u001b[38;5;34m128\u001b[0m)        │             \u001b[38;5;34m0\u001b[0m │\n",
       "├─────────────────────────────────┼────────────────────────┼───────────────┤\n",
       "│ lstm_2 (\u001b[38;5;33mLSTM\u001b[0m)                   │ (\u001b[38;5;45mNone\u001b[0m, \u001b[38;5;34m42\u001b[0m, \u001b[38;5;34m64\u001b[0m)         │        \u001b[38;5;34m49,408\u001b[0m │\n",
       "├─────────────────────────────────┼────────────────────────┼───────────────┤\n",
       "│ dropout_3 (\u001b[38;5;33mDropout\u001b[0m)             │ (\u001b[38;5;45mNone\u001b[0m, \u001b[38;5;34m42\u001b[0m, \u001b[38;5;34m64\u001b[0m)         │             \u001b[38;5;34m0\u001b[0m │\n",
       "├─────────────────────────────────┼────────────────────────┼───────────────┤\n",
       "│ lstm_3 (\u001b[38;5;33mLSTM\u001b[0m)                   │ (\u001b[38;5;45mNone\u001b[0m, \u001b[38;5;34m16\u001b[0m)             │         \u001b[38;5;34m5,184\u001b[0m │\n",
       "├─────────────────────────────────┼────────────────────────┼───────────────┤\n",
       "│ dropout_4 (\u001b[38;5;33mDropout\u001b[0m)             │ (\u001b[38;5;45mNone\u001b[0m, \u001b[38;5;34m16\u001b[0m)             │             \u001b[38;5;34m0\u001b[0m │\n",
       "├─────────────────────────────────┼────────────────────────┼───────────────┤\n",
       "│ dense_1 (\u001b[38;5;33mDense\u001b[0m)                 │ (\u001b[38;5;45mNone\u001b[0m, \u001b[38;5;34m6\u001b[0m)              │           \u001b[38;5;34m102\u001b[0m │\n",
       "└─────────────────────────────────┴────────────────────────┴───────────────┘\n"
      ]
     },
     "metadata": {},
     "output_type": "display_data"
    },
    {
     "data": {
      "text/html": [
       "<pre style=\"white-space:pre;overflow-x:auto;line-height:normal;font-family:Menlo,'DejaVu Sans Mono',consolas,'Courier New',monospace\"><span style=\"font-weight: bold\"> Total params: </span><span style=\"color: #00af00; text-decoration-color: #00af00\">516,006</span> (1.97 MB)\n",
       "</pre>\n"
      ],
      "text/plain": [
       "\u001b[1m Total params: \u001b[0m\u001b[38;5;34m516,006\u001b[0m (1.97 MB)\n"
      ]
     },
     "metadata": {},
     "output_type": "display_data"
    },
    {
     "data": {
      "text/html": [
       "<pre style=\"white-space:pre;overflow-x:auto;line-height:normal;font-family:Menlo,'DejaVu Sans Mono',consolas,'Courier New',monospace\"><span style=\"font-weight: bold\"> Trainable params: </span><span style=\"color: #00af00; text-decoration-color: #00af00\">516,006</span> (1.97 MB)\n",
       "</pre>\n"
      ],
      "text/plain": [
       "\u001b[1m Trainable params: \u001b[0m\u001b[38;5;34m516,006\u001b[0m (1.97 MB)\n"
      ]
     },
     "metadata": {},
     "output_type": "display_data"
    },
    {
     "data": {
      "text/html": [
       "<pre style=\"white-space:pre;overflow-x:auto;line-height:normal;font-family:Menlo,'DejaVu Sans Mono',consolas,'Courier New',monospace\"><span style=\"font-weight: bold\"> Non-trainable params: </span><span style=\"color: #00af00; text-decoration-color: #00af00\">0</span> (0.00 B)\n",
       "</pre>\n"
      ],
      "text/plain": [
       "\u001b[1m Non-trainable params: \u001b[0m\u001b[38;5;34m0\u001b[0m (0.00 B)\n"
      ]
     },
     "metadata": {},
     "output_type": "display_data"
    }
   ],
   "source": [
    "import tensorflow as tf\n",
    "\n",
    "# Define the model\n",
    "model = tf.keras.Sequential([\n",
    "    # First LSTM layer\n",
    "    tf.keras.layers.LSTM(256, input_shape=(42, 1), return_sequences=True, name='lstm_input'),\n",
    "    tf.keras.layers.Dropout(0.2, name='dropout_1'),\n",
    "\n",
    "    # Second LSTM layer\n",
    "    tf.keras.layers.LSTM(128, return_sequences=True, name='lstm_1'),\n",
    "    tf.keras.layers.Dropout(0.2, name='dropout_2'),\n",
    "\n",
    "    # Third LSTM layer\n",
    "    tf.keras.layers.LSTM(64, return_sequences=True, name='lstm_2'),\n",
    "    tf.keras.layers.Dropout(0.2, name='dropout_3'),\n",
    "\n",
    "    # Fourth LSTM layer\n",
    "    tf.keras.layers.LSTM(16, return_sequences=False, name='lstm_3'),  # Final LSTM layer\n",
    "    tf.keras.layers.Dropout(0.2, name='dropout_4'),\n",
    "\n",
    "    # Dense layer for classification\n",
    "    tf.keras.layers.Dense(num_classes, activation='softmax', name='dense_1')  \n",
    "])\n",
    "\n",
    "# Compile the model\n",
    "model.compile(optimizer='adam', loss='sparse_categorical_crossentropy', metrics=['accuracy'])\n",
    "\n",
    "# Display model summary\n",
    "model.summary()\n"
   ]
  },
  {
   "cell_type": "code",
   "execution_count": 74,
   "metadata": {},
   "outputs": [],
   "source": [
    "# Model checkpoint callback\n",
    "cp_callback = tf.keras.callbacks.ModelCheckpoint(model_save_path, verbose=1, save_weights_only=False)\n",
    "\n",
    "# Early stopping callback\n",
    "early_stopping = tf.keras.callbacks.EarlyStopping(patience=20, verbose=1)"
   ]
  },
  {
   "cell_type": "code",
   "execution_count": 75,
   "metadata": {},
   "outputs": [],
   "source": [
    "# Model compilation\n",
    "model.compile(\n",
    "    optimizer='adam',\n",
    "    loss='sparse_categorical_crossentropy',\n",
    "    metrics=['accuracy']\n",
    ")"
   ]
  },
  {
   "cell_type": "code",
   "execution_count": 76,
   "metadata": {},
   "outputs": [
    {
     "name": "stdout",
     "output_type": "stream",
     "text": [
      "Epoch 1/1000\n"
     ]
    },
    {
     "name": "stdout",
     "output_type": "stream",
     "text": [
      "\u001b[1m31/31\u001b[0m \u001b[32m━━━━━━━━━━━━━━━━━━━━\u001b[0m\u001b[37m\u001b[0m \u001b[1m0s\u001b[0m 246ms/step - accuracy: 0.2010 - loss: 1.7666\n",
      "Epoch 1: saving model to C:/GroupPJ/USTHGroupProject/Quang/Hand_Getsure_Clean/model save point/keypoint_classifier_lstm.keras\n",
      "\u001b[1m31/31\u001b[0m \u001b[32m━━━━━━━━━━━━━━━━━━━━\u001b[0m\u001b[37m\u001b[0m \u001b[1m13s\u001b[0m 293ms/step - accuracy: 0.2021 - loss: 1.7656 - val_accuracy: 0.2715 - val_loss: 1.6403\n",
      "Epoch 2/1000\n",
      "\u001b[1m31/31\u001b[0m \u001b[32m━━━━━━━━━━━━━━━━━━━━\u001b[0m\u001b[37m\u001b[0m \u001b[1m0s\u001b[0m 217ms/step - accuracy: 0.3099 - loss: 1.6157\n",
      "Epoch 2: saving model to C:/GroupPJ/USTHGroupProject/Quang/Hand_Getsure_Clean/model save point/keypoint_classifier_lstm.keras\n",
      "\u001b[1m31/31\u001b[0m \u001b[32m━━━━━━━━━━━━━━━━━━━━\u001b[0m\u001b[37m\u001b[0m \u001b[1m8s\u001b[0m 246ms/step - accuracy: 0.3109 - loss: 1.6140 - val_accuracy: 0.4493 - val_loss: 1.4233\n",
      "Epoch 3/1000\n",
      "\u001b[1m31/31\u001b[0m \u001b[32m━━━━━━━━━━━━━━━━━━━━\u001b[0m\u001b[37m\u001b[0m \u001b[1m0s\u001b[0m 210ms/step - accuracy: 0.4107 - loss: 1.4043\n",
      "Epoch 3: saving model to C:/GroupPJ/USTHGroupProject/Quang/Hand_Getsure_Clean/model save point/keypoint_classifier_lstm.keras\n",
      "\u001b[1m31/31\u001b[0m \u001b[32m━━━━━━━━━━━━━━━━━━━━\u001b[0m\u001b[37m\u001b[0m \u001b[1m7s\u001b[0m 239ms/step - accuracy: 0.4116 - loss: 1.4029 - val_accuracy: 0.5256 - val_loss: 1.1607\n",
      "Epoch 4/1000\n",
      "\u001b[1m31/31\u001b[0m \u001b[32m━━━━━━━━━━━━━━━━━━━━\u001b[0m\u001b[37m\u001b[0m \u001b[1m0s\u001b[0m 199ms/step - accuracy: 0.4780 - loss: 1.2443\n",
      "Epoch 4: saving model to C:/GroupPJ/USTHGroupProject/Quang/Hand_Getsure_Clean/model save point/keypoint_classifier_lstm.keras\n",
      "\u001b[1m31/31\u001b[0m \u001b[32m━━━━━━━━━━━━━━━━━━━━\u001b[0m\u001b[37m\u001b[0m \u001b[1m7s\u001b[0m 230ms/step - accuracy: 0.4786 - loss: 1.2434 - val_accuracy: 0.5637 - val_loss: 1.1248\n",
      "Epoch 5/1000\n",
      "\u001b[1m31/31\u001b[0m \u001b[32m━━━━━━━━━━━━━━━━━━━━\u001b[0m\u001b[37m\u001b[0m \u001b[1m0s\u001b[0m 208ms/step - accuracy: 0.5365 - loss: 1.1344\n",
      "Epoch 5: saving model to C:/GroupPJ/USTHGroupProject/Quang/Hand_Getsure_Clean/model save point/keypoint_classifier_lstm.keras\n",
      "\u001b[1m31/31\u001b[0m \u001b[32m━━━━━━━━━━━━━━━━━━━━\u001b[0m\u001b[37m\u001b[0m \u001b[1m8s\u001b[0m 243ms/step - accuracy: 0.5367 - loss: 1.1342 - val_accuracy: 0.5660 - val_loss: 1.0251\n",
      "Epoch 6/1000\n",
      "\u001b[1m31/31\u001b[0m \u001b[32m━━━━━━━━━━━━━━━━━━━━\u001b[0m\u001b[37m\u001b[0m \u001b[1m0s\u001b[0m 218ms/step - accuracy: 0.5851 - loss: 1.0456\n",
      "Epoch 6: saving model to C:/GroupPJ/USTHGroupProject/Quang/Hand_Getsure_Clean/model save point/keypoint_classifier_lstm.keras\n",
      "\u001b[1m31/31\u001b[0m \u001b[32m━━━━━━━━━━━━━━━━━━━━\u001b[0m\u001b[37m\u001b[0m \u001b[1m8s\u001b[0m 252ms/step - accuracy: 0.5852 - loss: 1.0455 - val_accuracy: 0.6560 - val_loss: 0.9319\n",
      "Epoch 7/1000\n",
      "\u001b[1m31/31\u001b[0m \u001b[32m━━━━━━━━━━━━━━━━━━━━\u001b[0m\u001b[37m\u001b[0m \u001b[1m0s\u001b[0m 216ms/step - accuracy: 0.6420 - loss: 0.9525\n",
      "Epoch 7: saving model to C:/GroupPJ/USTHGroupProject/Quang/Hand_Getsure_Clean/model save point/keypoint_classifier_lstm.keras\n",
      "\u001b[1m31/31\u001b[0m \u001b[32m━━━━━━━━━━━━━━━━━━━━\u001b[0m\u001b[37m\u001b[0m \u001b[1m8s\u001b[0m 246ms/step - accuracy: 0.6420 - loss: 0.9520 - val_accuracy: 0.6766 - val_loss: 0.8473\n",
      "Epoch 8/1000\n",
      "\u001b[1m31/31\u001b[0m \u001b[32m━━━━━━━━━━━━━━━━━━━━\u001b[0m\u001b[37m\u001b[0m \u001b[1m0s\u001b[0m 202ms/step - accuracy: 0.6579 - loss: 0.8741\n",
      "Epoch 8: saving model to C:/GroupPJ/USTHGroupProject/Quang/Hand_Getsure_Clean/model save point/keypoint_classifier_lstm.keras\n",
      "\u001b[1m31/31\u001b[0m \u001b[32m━━━━━━━━━━━━━━━━━━━━\u001b[0m\u001b[37m\u001b[0m \u001b[1m7s\u001b[0m 232ms/step - accuracy: 0.6581 - loss: 0.8735 - val_accuracy: 0.7079 - val_loss: 0.7804\n",
      "Epoch 9/1000\n",
      "\u001b[1m31/31\u001b[0m \u001b[32m━━━━━━━━━━━━━━━━━━━━\u001b[0m\u001b[37m\u001b[0m \u001b[1m0s\u001b[0m 204ms/step - accuracy: 0.6815 - loss: 0.8579\n",
      "Epoch 9: saving model to C:/GroupPJ/USTHGroupProject/Quang/Hand_Getsure_Clean/model save point/keypoint_classifier_lstm.keras\n",
      "\u001b[1m31/31\u001b[0m \u001b[32m━━━━━━━━━━━━━━━━━━━━\u001b[0m\u001b[37m\u001b[0m \u001b[1m7s\u001b[0m 236ms/step - accuracy: 0.6814 - loss: 0.8578 - val_accuracy: 0.7216 - val_loss: 0.7841\n",
      "Epoch 10/1000\n",
      "\u001b[1m31/31\u001b[0m \u001b[32m━━━━━━━━━━━━━━━━━━━━\u001b[0m\u001b[37m\u001b[0m \u001b[1m0s\u001b[0m 207ms/step - accuracy: 0.6985 - loss: 0.8158\n",
      "Epoch 10: saving model to C:/GroupPJ/USTHGroupProject/Quang/Hand_Getsure_Clean/model save point/keypoint_classifier_lstm.keras\n",
      "\u001b[1m31/31\u001b[0m \u001b[32m━━━━━━━━━━━━━━━━━━━━\u001b[0m\u001b[37m\u001b[0m \u001b[1m7s\u001b[0m 238ms/step - accuracy: 0.6983 - loss: 0.8161 - val_accuracy: 0.7620 - val_loss: 0.6734\n",
      "Epoch 11/1000\n",
      "\u001b[1m31/31\u001b[0m \u001b[32m━━━━━━━━━━━━━━━━━━━━\u001b[0m\u001b[37m\u001b[0m \u001b[1m0s\u001b[0m 205ms/step - accuracy: 0.7312 - loss: 0.7304\n",
      "Epoch 11: saving model to C:/GroupPJ/USTHGroupProject/Quang/Hand_Getsure_Clean/model save point/keypoint_classifier_lstm.keras\n",
      "\u001b[1m31/31\u001b[0m \u001b[32m━━━━━━━━━━━━━━━━━━━━\u001b[0m\u001b[37m\u001b[0m \u001b[1m7s\u001b[0m 236ms/step - accuracy: 0.7312 - loss: 0.7305 - val_accuracy: 0.7567 - val_loss: 0.6683\n",
      "Epoch 12/1000\n",
      "\u001b[1m31/31\u001b[0m \u001b[32m━━━━━━━━━━━━━━━━━━━━\u001b[0m\u001b[37m\u001b[0m \u001b[1m0s\u001b[0m 205ms/step - accuracy: 0.7334 - loss: 0.6899\n",
      "Epoch 12: saving model to C:/GroupPJ/USTHGroupProject/Quang/Hand_Getsure_Clean/model save point/keypoint_classifier_lstm.keras\n",
      "\u001b[1m31/31\u001b[0m \u001b[32m━━━━━━━━━━━━━━━━━━━━\u001b[0m\u001b[37m\u001b[0m \u001b[1m7s\u001b[0m 236ms/step - accuracy: 0.7336 - loss: 0.6900 - val_accuracy: 0.7681 - val_loss: 0.6152\n",
      "Epoch 13/1000\n",
      "\u001b[1m31/31\u001b[0m \u001b[32m━━━━━━━━━━━━━━━━━━━━\u001b[0m\u001b[37m\u001b[0m \u001b[1m0s\u001b[0m 198ms/step - accuracy: 0.7728 - loss: 0.6411\n",
      "Epoch 13: saving model to C:/GroupPJ/USTHGroupProject/Quang/Hand_Getsure_Clean/model save point/keypoint_classifier_lstm.keras\n",
      "\u001b[1m31/31\u001b[0m \u001b[32m━━━━━━━━━━━━━━━━━━━━\u001b[0m\u001b[37m\u001b[0m \u001b[1m7s\u001b[0m 228ms/step - accuracy: 0.7732 - loss: 0.6401 - val_accuracy: 0.8169 - val_loss: 0.5284\n",
      "Epoch 14/1000\n",
      "\u001b[1m31/31\u001b[0m \u001b[32m━━━━━━━━━━━━━━━━━━━━\u001b[0m\u001b[37m\u001b[0m \u001b[1m0s\u001b[0m 204ms/step - accuracy: 0.7791 - loss: 0.6358\n",
      "Epoch 14: saving model to C:/GroupPJ/USTHGroupProject/Quang/Hand_Getsure_Clean/model save point/keypoint_classifier_lstm.keras\n",
      "\u001b[1m31/31\u001b[0m \u001b[32m━━━━━━━━━━━━━━━━━━━━\u001b[0m\u001b[37m\u001b[0m \u001b[1m7s\u001b[0m 235ms/step - accuracy: 0.7796 - loss: 0.6345 - val_accuracy: 0.8383 - val_loss: 0.4850\n",
      "Epoch 15/1000\n",
      "\u001b[1m31/31\u001b[0m \u001b[32m━━━━━━━━━━━━━━━━━━━━\u001b[0m\u001b[37m\u001b[0m \u001b[1m0s\u001b[0m 200ms/step - accuracy: 0.8130 - loss: 0.5478\n",
      "Epoch 15: saving model to C:/GroupPJ/USTHGroupProject/Quang/Hand_Getsure_Clean/model save point/keypoint_classifier_lstm.keras\n",
      "\u001b[1m31/31\u001b[0m \u001b[32m━━━━━━━━━━━━━━━━━━━━\u001b[0m\u001b[37m\u001b[0m \u001b[1m7s\u001b[0m 232ms/step - accuracy: 0.8130 - loss: 0.5477 - val_accuracy: 0.8421 - val_loss: 0.4651\n",
      "Epoch 16/1000\n",
      "\u001b[1m31/31\u001b[0m \u001b[32m━━━━━━━━━━━━━━━━━━━━\u001b[0m\u001b[37m\u001b[0m \u001b[1m0s\u001b[0m 202ms/step - accuracy: 0.8285 - loss: 0.5062\n",
      "Epoch 16: saving model to C:/GroupPJ/USTHGroupProject/Quang/Hand_Getsure_Clean/model save point/keypoint_classifier_lstm.keras\n",
      "\u001b[1m31/31\u001b[0m \u001b[32m━━━━━━━━━━━━━━━━━━━━\u001b[0m\u001b[37m\u001b[0m \u001b[1m7s\u001b[0m 232ms/step - accuracy: 0.8292 - loss: 0.5051 - val_accuracy: 0.8543 - val_loss: 0.4412\n",
      "Epoch 17/1000\n",
      "\u001b[1m31/31\u001b[0m \u001b[32m━━━━━━━━━━━━━━━━━━━━\u001b[0m\u001b[37m\u001b[0m \u001b[1m0s\u001b[0m 195ms/step - accuracy: 0.8616 - loss: 0.4454\n",
      "Epoch 17: saving model to C:/GroupPJ/USTHGroupProject/Quang/Hand_Getsure_Clean/model save point/keypoint_classifier_lstm.keras\n",
      "\u001b[1m31/31\u001b[0m \u001b[32m━━━━━━━━━━━━━━━━━━━━\u001b[0m\u001b[37m\u001b[0m \u001b[1m7s\u001b[0m 228ms/step - accuracy: 0.8618 - loss: 0.4448 - val_accuracy: 0.8688 - val_loss: 0.3905\n",
      "Epoch 18/1000\n",
      "\u001b[1m31/31\u001b[0m \u001b[32m━━━━━━━━━━━━━━━━━━━━\u001b[0m\u001b[37m\u001b[0m \u001b[1m0s\u001b[0m 203ms/step - accuracy: 0.8592 - loss: 0.4397\n",
      "Epoch 18: saving model to C:/GroupPJ/USTHGroupProject/Quang/Hand_Getsure_Clean/model save point/keypoint_classifier_lstm.keras\n",
      "\u001b[1m31/31\u001b[0m \u001b[32m━━━━━━━━━━━━━━━━━━━━\u001b[0m\u001b[37m\u001b[0m \u001b[1m7s\u001b[0m 234ms/step - accuracy: 0.8595 - loss: 0.4389 - val_accuracy: 0.8802 - val_loss: 0.3550\n",
      "Epoch 19/1000\n",
      "\u001b[1m31/31\u001b[0m \u001b[32m━━━━━━━━━━━━━━━━━━━━\u001b[0m\u001b[37m\u001b[0m \u001b[1m0s\u001b[0m 201ms/step - accuracy: 0.8906 - loss: 0.3533\n",
      "Epoch 19: saving model to C:/GroupPJ/USTHGroupProject/Quang/Hand_Getsure_Clean/model save point/keypoint_classifier_lstm.keras\n",
      "\u001b[1m31/31\u001b[0m \u001b[32m━━━━━━━━━━━━━━━━━━━━\u001b[0m\u001b[37m\u001b[0m \u001b[1m7s\u001b[0m 232ms/step - accuracy: 0.8901 - loss: 0.3545 - val_accuracy: 0.8955 - val_loss: 0.3287\n",
      "Epoch 20/1000\n",
      "\u001b[1m31/31\u001b[0m \u001b[32m━━━━━━━━━━━━━━━━━━━━\u001b[0m\u001b[37m\u001b[0m \u001b[1m0s\u001b[0m 209ms/step - accuracy: 0.8897 - loss: 0.3746\n",
      "Epoch 20: saving model to C:/GroupPJ/USTHGroupProject/Quang/Hand_Getsure_Clean/model save point/keypoint_classifier_lstm.keras\n",
      "\u001b[1m31/31\u001b[0m \u001b[32m━━━━━━━━━━━━━━━━━━━━\u001b[0m\u001b[37m\u001b[0m \u001b[1m7s\u001b[0m 241ms/step - accuracy: 0.8896 - loss: 0.3745 - val_accuracy: 0.9077 - val_loss: 0.3060\n",
      "Epoch 21/1000\n",
      "\u001b[1m31/31\u001b[0m \u001b[32m━━━━━━━━━━━━━━━━━━━━\u001b[0m\u001b[37m\u001b[0m \u001b[1m0s\u001b[0m 200ms/step - accuracy: 0.8800 - loss: 0.3790\n",
      "Epoch 21: saving model to C:/GroupPJ/USTHGroupProject/Quang/Hand_Getsure_Clean/model save point/keypoint_classifier_lstm.keras\n",
      "\u001b[1m31/31\u001b[0m \u001b[32m━━━━━━━━━━━━━━━━━━━━\u001b[0m\u001b[37m\u001b[0m \u001b[1m7s\u001b[0m 230ms/step - accuracy: 0.8803 - loss: 0.3783 - val_accuracy: 0.9069 - val_loss: 0.2842\n",
      "Epoch 22/1000\n",
      "\u001b[1m31/31\u001b[0m \u001b[32m━━━━━━━━━━━━━━━━━━━━\u001b[0m\u001b[37m\u001b[0m \u001b[1m0s\u001b[0m 203ms/step - accuracy: 0.9082 - loss: 0.3167\n",
      "Epoch 22: saving model to C:/GroupPJ/USTHGroupProject/Quang/Hand_Getsure_Clean/model save point/keypoint_classifier_lstm.keras\n",
      "\u001b[1m31/31\u001b[0m \u001b[32m━━━━━━━━━━━━━━━━━━━━\u001b[0m\u001b[37m\u001b[0m \u001b[1m7s\u001b[0m 232ms/step - accuracy: 0.9080 - loss: 0.3169 - val_accuracy: 0.8986 - val_loss: 0.3094\n",
      "Epoch 23/1000\n",
      "\u001b[1m31/31\u001b[0m \u001b[32m━━━━━━━━━━━━━━━━━━━━\u001b[0m\u001b[37m\u001b[0m \u001b[1m0s\u001b[0m 203ms/step - accuracy: 0.9037 - loss: 0.3172\n",
      "Epoch 23: saving model to C:/GroupPJ/USTHGroupProject/Quang/Hand_Getsure_Clean/model save point/keypoint_classifier_lstm.keras\n",
      "\u001b[1m31/31\u001b[0m \u001b[32m━━━━━━━━━━━━━━━━━━━━\u001b[0m\u001b[37m\u001b[0m \u001b[1m7s\u001b[0m 235ms/step - accuracy: 0.9040 - loss: 0.3169 - val_accuracy: 0.9489 - val_loss: 0.1977\n",
      "Epoch 24/1000\n",
      "\u001b[1m31/31\u001b[0m \u001b[32m━━━━━━━━━━━━━━━━━━━━\u001b[0m\u001b[37m\u001b[0m \u001b[1m0s\u001b[0m 199ms/step - accuracy: 0.9314 - loss: 0.2423\n",
      "Epoch 24: saving model to C:/GroupPJ/USTHGroupProject/Quang/Hand_Getsure_Clean/model save point/keypoint_classifier_lstm.keras\n",
      "\u001b[1m31/31\u001b[0m \u001b[32m━━━━━━━━━━━━━━━━━━━━\u001b[0m\u001b[37m\u001b[0m \u001b[1m7s\u001b[0m 230ms/step - accuracy: 0.9312 - loss: 0.2431 - val_accuracy: 0.9367 - val_loss: 0.2159\n",
      "Epoch 25/1000\n",
      "\u001b[1m31/31\u001b[0m \u001b[32m━━━━━━━━━━━━━━━━━━━━\u001b[0m\u001b[37m\u001b[0m \u001b[1m0s\u001b[0m 201ms/step - accuracy: 0.9348 - loss: 0.2437\n",
      "Epoch 25: saving model to C:/GroupPJ/USTHGroupProject/Quang/Hand_Getsure_Clean/model save point/keypoint_classifier_lstm.keras\n",
      "\u001b[1m31/31\u001b[0m \u001b[32m━━━━━━━━━━━━━━━━━━━━\u001b[0m\u001b[37m\u001b[0m \u001b[1m7s\u001b[0m 230ms/step - accuracy: 0.9348 - loss: 0.2437 - val_accuracy: 0.9527 - val_loss: 0.1801\n",
      "Epoch 26/1000\n",
      "\u001b[1m31/31\u001b[0m \u001b[32m━━━━━━━━━━━━━━━━━━━━\u001b[0m\u001b[37m\u001b[0m \u001b[1m0s\u001b[0m 194ms/step - accuracy: 0.9517 - loss: 0.1934\n",
      "Epoch 26: saving model to C:/GroupPJ/USTHGroupProject/Quang/Hand_Getsure_Clean/model save point/keypoint_classifier_lstm.keras\n",
      "\u001b[1m31/31\u001b[0m \u001b[32m━━━━━━━━━━━━━━━━━━━━\u001b[0m\u001b[37m\u001b[0m \u001b[1m7s\u001b[0m 224ms/step - accuracy: 0.9517 - loss: 0.1936 - val_accuracy: 0.9550 - val_loss: 0.1588\n",
      "Epoch 27/1000\n",
      "\u001b[1m31/31\u001b[0m \u001b[32m━━━━━━━━━━━━━━━━━━━━\u001b[0m\u001b[37m\u001b[0m \u001b[1m0s\u001b[0m 194ms/step - accuracy: 0.9545 - loss: 0.1883\n",
      "Epoch 27: saving model to C:/GroupPJ/USTHGroupProject/Quang/Hand_Getsure_Clean/model save point/keypoint_classifier_lstm.keras\n",
      "\u001b[1m31/31\u001b[0m \u001b[32m━━━━━━━━━━━━━━━━━━━━\u001b[0m\u001b[37m\u001b[0m \u001b[1m7s\u001b[0m 225ms/step - accuracy: 0.9546 - loss: 0.1881 - val_accuracy: 0.9603 - val_loss: 0.1522\n",
      "Epoch 28/1000\n",
      "\u001b[1m31/31\u001b[0m \u001b[32m━━━━━━━━━━━━━━━━━━━━\u001b[0m\u001b[37m\u001b[0m \u001b[1m0s\u001b[0m 201ms/step - accuracy: 0.9534 - loss: 0.1937\n",
      "Epoch 28: saving model to C:/GroupPJ/USTHGroupProject/Quang/Hand_Getsure_Clean/model save point/keypoint_classifier_lstm.keras\n",
      "\u001b[1m31/31\u001b[0m \u001b[32m━━━━━━━━━━━━━━━━━━━━\u001b[0m\u001b[37m\u001b[0m \u001b[1m7s\u001b[0m 232ms/step - accuracy: 0.9535 - loss: 0.1933 - val_accuracy: 0.9580 - val_loss: 0.1598\n",
      "Epoch 29/1000\n",
      "\u001b[1m31/31\u001b[0m \u001b[32m━━━━━━━━━━━━━━━━━━━━\u001b[0m\u001b[37m\u001b[0m \u001b[1m0s\u001b[0m 203ms/step - accuracy: 0.9427 - loss: 0.2011\n",
      "Epoch 29: saving model to C:/GroupPJ/USTHGroupProject/Quang/Hand_Getsure_Clean/model save point/keypoint_classifier_lstm.keras\n",
      "\u001b[1m31/31\u001b[0m \u001b[32m━━━━━━━━━━━━━━━━━━━━\u001b[0m\u001b[37m\u001b[0m \u001b[1m7s\u001b[0m 233ms/step - accuracy: 0.9428 - loss: 0.2014 - val_accuracy: 0.9558 - val_loss: 0.1673\n",
      "Epoch 30/1000\n",
      "\u001b[1m31/31\u001b[0m \u001b[32m━━━━━━━━━━━━━━━━━━━━\u001b[0m\u001b[37m\u001b[0m \u001b[1m0s\u001b[0m 195ms/step - accuracy: 0.9511 - loss: 0.1832\n",
      "Epoch 30: saving model to C:/GroupPJ/USTHGroupProject/Quang/Hand_Getsure_Clean/model save point/keypoint_classifier_lstm.keras\n",
      "\u001b[1m31/31\u001b[0m \u001b[32m━━━━━━━━━━━━━━━━━━━━\u001b[0m\u001b[37m\u001b[0m \u001b[1m7s\u001b[0m 225ms/step - accuracy: 0.9511 - loss: 0.1836 - val_accuracy: 0.9558 - val_loss: 0.1618\n",
      "Epoch 31/1000\n",
      "\u001b[1m31/31\u001b[0m \u001b[32m━━━━━━━━━━━━━━━━━━━━\u001b[0m\u001b[37m\u001b[0m \u001b[1m0s\u001b[0m 202ms/step - accuracy: 0.9517 - loss: 0.1984\n",
      "Epoch 31: saving model to C:/GroupPJ/USTHGroupProject/Quang/Hand_Getsure_Clean/model save point/keypoint_classifier_lstm.keras\n",
      "\u001b[1m31/31\u001b[0m \u001b[32m━━━━━━━━━━━━━━━━━━━━\u001b[0m\u001b[37m\u001b[0m \u001b[1m7s\u001b[0m 232ms/step - accuracy: 0.9520 - loss: 0.1976 - val_accuracy: 0.9634 - val_loss: 0.1403\n",
      "Epoch 32/1000\n",
      "\u001b[1m31/31\u001b[0m \u001b[32m━━━━━━━━━━━━━━━━━━━━\u001b[0m\u001b[37m\u001b[0m \u001b[1m0s\u001b[0m 203ms/step - accuracy: 0.9686 - loss: 0.1577\n",
      "Epoch 32: saving model to C:/GroupPJ/USTHGroupProject/Quang/Hand_Getsure_Clean/model save point/keypoint_classifier_lstm.keras\n",
      "\u001b[1m31/31\u001b[0m \u001b[32m━━━━━━━━━━━━━━━━━━━━\u001b[0m\u001b[37m\u001b[0m \u001b[1m7s\u001b[0m 233ms/step - accuracy: 0.9685 - loss: 0.1576 - val_accuracy: 0.9588 - val_loss: 0.1562\n",
      "Epoch 33/1000\n",
      "\u001b[1m31/31\u001b[0m \u001b[32m━━━━━━━━━━━━━━━━━━━━\u001b[0m\u001b[37m\u001b[0m \u001b[1m0s\u001b[0m 199ms/step - accuracy: 0.9572 - loss: 0.1659\n",
      "Epoch 33: saving model to C:/GroupPJ/USTHGroupProject/Quang/Hand_Getsure_Clean/model save point/keypoint_classifier_lstm.keras\n",
      "\u001b[1m31/31\u001b[0m \u001b[32m━━━━━━━━━━━━━━━━━━━━\u001b[0m\u001b[37m\u001b[0m \u001b[1m7s\u001b[0m 228ms/step - accuracy: 0.9571 - loss: 0.1661 - val_accuracy: 0.9695 - val_loss: 0.1294\n",
      "Epoch 34/1000\n",
      "\u001b[1m31/31\u001b[0m \u001b[32m━━━━━━━━━━━━━━━━━━━━\u001b[0m\u001b[37m\u001b[0m \u001b[1m0s\u001b[0m 203ms/step - accuracy: 0.9640 - loss: 0.1471\n",
      "Epoch 34: saving model to C:/GroupPJ/USTHGroupProject/Quang/Hand_Getsure_Clean/model save point/keypoint_classifier_lstm.keras\n",
      "\u001b[1m31/31\u001b[0m \u001b[32m━━━━━━━━━━━━━━━━━━━━\u001b[0m\u001b[37m\u001b[0m \u001b[1m7s\u001b[0m 235ms/step - accuracy: 0.9640 - loss: 0.1474 - val_accuracy: 0.9718 - val_loss: 0.1078\n",
      "Epoch 35/1000\n",
      "\u001b[1m31/31\u001b[0m \u001b[32m━━━━━━━━━━━━━━━━━━━━\u001b[0m\u001b[37m\u001b[0m \u001b[1m0s\u001b[0m 196ms/step - accuracy: 0.9578 - loss: 0.1697\n",
      "Epoch 35: saving model to C:/GroupPJ/USTHGroupProject/Quang/Hand_Getsure_Clean/model save point/keypoint_classifier_lstm.keras\n",
      "\u001b[1m31/31\u001b[0m \u001b[32m━━━━━━━━━━━━━━━━━━━━\u001b[0m\u001b[37m\u001b[0m \u001b[1m7s\u001b[0m 226ms/step - accuracy: 0.9581 - loss: 0.1690 - val_accuracy: 0.9703 - val_loss: 0.1134\n",
      "Epoch 36/1000\n",
      "\u001b[1m31/31\u001b[0m \u001b[32m━━━━━━━━━━━━━━━━━━━━\u001b[0m\u001b[37m\u001b[0m \u001b[1m0s\u001b[0m 202ms/step - accuracy: 0.9744 - loss: 0.1277\n",
      "Epoch 36: saving model to C:/GroupPJ/USTHGroupProject/Quang/Hand_Getsure_Clean/model save point/keypoint_classifier_lstm.keras\n",
      "\u001b[1m31/31\u001b[0m \u001b[32m━━━━━━━━━━━━━━━━━━━━\u001b[0m\u001b[37m\u001b[0m \u001b[1m7s\u001b[0m 236ms/step - accuracy: 0.9744 - loss: 0.1276 - val_accuracy: 0.9725 - val_loss: 0.1044\n",
      "Epoch 37/1000\n",
      "\u001b[1m31/31\u001b[0m \u001b[32m━━━━━━━━━━━━━━━━━━━━\u001b[0m\u001b[37m\u001b[0m \u001b[1m0s\u001b[0m 200ms/step - accuracy: 0.9708 - loss: 0.1288\n",
      "Epoch 37: saving model to C:/GroupPJ/USTHGroupProject/Quang/Hand_Getsure_Clean/model save point/keypoint_classifier_lstm.keras\n",
      "\u001b[1m31/31\u001b[0m \u001b[32m━━━━━━━━━━━━━━━━━━━━\u001b[0m\u001b[37m\u001b[0m \u001b[1m7s\u001b[0m 231ms/step - accuracy: 0.9707 - loss: 0.1292 - val_accuracy: 0.9672 - val_loss: 0.1146\n",
      "Epoch 38/1000\n",
      "\u001b[1m31/31\u001b[0m \u001b[32m━━━━━━━━━━━━━━━━━━━━\u001b[0m\u001b[37m\u001b[0m \u001b[1m0s\u001b[0m 204ms/step - accuracy: 0.9647 - loss: 0.1486\n",
      "Epoch 38: saving model to C:/GroupPJ/USTHGroupProject/Quang/Hand_Getsure_Clean/model save point/keypoint_classifier_lstm.keras\n",
      "\u001b[1m31/31\u001b[0m \u001b[32m━━━━━━━━━━━━━━━━━━━━\u001b[0m\u001b[37m\u001b[0m \u001b[1m7s\u001b[0m 235ms/step - accuracy: 0.9649 - loss: 0.1481 - val_accuracy: 0.9733 - val_loss: 0.1100\n",
      "Epoch 39/1000\n",
      "\u001b[1m31/31\u001b[0m \u001b[32m━━━━━━━━━━━━━━━━━━━━\u001b[0m\u001b[37m\u001b[0m \u001b[1m0s\u001b[0m 194ms/step - accuracy: 0.9768 - loss: 0.1027\n",
      "Epoch 39: saving model to C:/GroupPJ/USTHGroupProject/Quang/Hand_Getsure_Clean/model save point/keypoint_classifier_lstm.keras\n",
      "\u001b[1m31/31\u001b[0m \u001b[32m━━━━━━━━━━━━━━━━━━━━\u001b[0m\u001b[37m\u001b[0m \u001b[1m7s\u001b[0m 225ms/step - accuracy: 0.9768 - loss: 0.1029 - val_accuracy: 0.9695 - val_loss: 0.1099\n",
      "Epoch 40/1000\n",
      "\u001b[1m31/31\u001b[0m \u001b[32m━━━━━━━━━━━━━━━━━━━━\u001b[0m\u001b[37m\u001b[0m \u001b[1m0s\u001b[0m 200ms/step - accuracy: 0.9751 - loss: 0.1043\n",
      "Epoch 40: saving model to C:/GroupPJ/USTHGroupProject/Quang/Hand_Getsure_Clean/model save point/keypoint_classifier_lstm.keras\n",
      "\u001b[1m31/31\u001b[0m \u001b[32m━━━━━━━━━━━━━━━━━━━━\u001b[0m\u001b[37m\u001b[0m \u001b[1m7s\u001b[0m 231ms/step - accuracy: 0.9750 - loss: 0.1046 - val_accuracy: 0.9664 - val_loss: 0.1187\n",
      "Epoch 41/1000\n",
      "\u001b[1m31/31\u001b[0m \u001b[32m━━━━━━━━━━━━━━━━━━━━\u001b[0m\u001b[37m\u001b[0m \u001b[1m0s\u001b[0m 205ms/step - accuracy: 0.9732 - loss: 0.1227\n",
      "Epoch 41: saving model to C:/GroupPJ/USTHGroupProject/Quang/Hand_Getsure_Clean/model save point/keypoint_classifier_lstm.keras\n",
      "\u001b[1m31/31\u001b[0m \u001b[32m━━━━━━━━━━━━━━━━━━━━\u001b[0m\u001b[37m\u001b[0m \u001b[1m7s\u001b[0m 235ms/step - accuracy: 0.9731 - loss: 0.1228 - val_accuracy: 0.9710 - val_loss: 0.1013\n",
      "Epoch 42/1000\n",
      "\u001b[1m31/31\u001b[0m \u001b[32m━━━━━━━━━━━━━━━━━━━━\u001b[0m\u001b[37m\u001b[0m \u001b[1m0s\u001b[0m 199ms/step - accuracy: 0.9663 - loss: 0.1362\n",
      "Epoch 42: saving model to C:/GroupPJ/USTHGroupProject/Quang/Hand_Getsure_Clean/model save point/keypoint_classifier_lstm.keras\n",
      "\u001b[1m31/31\u001b[0m \u001b[32m━━━━━━━━━━━━━━━━━━━━\u001b[0m\u001b[37m\u001b[0m \u001b[1m7s\u001b[0m 231ms/step - accuracy: 0.9663 - loss: 0.1361 - val_accuracy: 0.9725 - val_loss: 0.1052\n",
      "Epoch 43/1000\n",
      "\u001b[1m31/31\u001b[0m \u001b[32m━━━━━━━━━━━━━━━━━━━━\u001b[0m\u001b[37m\u001b[0m \u001b[1m0s\u001b[0m 205ms/step - accuracy: 0.9716 - loss: 0.1194\n",
      "Epoch 43: saving model to C:/GroupPJ/USTHGroupProject/Quang/Hand_Getsure_Clean/model save point/keypoint_classifier_lstm.keras\n",
      "\u001b[1m31/31\u001b[0m \u001b[32m━━━━━━━━━━━━━━━━━━━━\u001b[0m\u001b[37m\u001b[0m \u001b[1m7s\u001b[0m 235ms/step - accuracy: 0.9716 - loss: 0.1194 - val_accuracy: 0.9725 - val_loss: 0.0996\n",
      "Epoch 44/1000\n",
      "\u001b[1m31/31\u001b[0m \u001b[32m━━━━━━━━━━━━━━━━━━━━\u001b[0m\u001b[37m\u001b[0m \u001b[1m0s\u001b[0m 196ms/step - accuracy: 0.9833 - loss: 0.0790\n",
      "Epoch 44: saving model to C:/GroupPJ/USTHGroupProject/Quang/Hand_Getsure_Clean/model save point/keypoint_classifier_lstm.keras\n",
      "\u001b[1m31/31\u001b[0m \u001b[32m━━━━━━━━━━━━━━━━━━━━\u001b[0m\u001b[37m\u001b[0m \u001b[1m7s\u001b[0m 226ms/step - accuracy: 0.9831 - loss: 0.0797 - val_accuracy: 0.9565 - val_loss: 0.1392\n",
      "Epoch 45/1000\n",
      "\u001b[1m31/31\u001b[0m \u001b[32m━━━━━━━━━━━━━━━━━━━━\u001b[0m\u001b[37m\u001b[0m \u001b[1m0s\u001b[0m 201ms/step - accuracy: 0.9746 - loss: 0.1077\n",
      "Epoch 45: saving model to C:/GroupPJ/USTHGroupProject/Quang/Hand_Getsure_Clean/model save point/keypoint_classifier_lstm.keras\n",
      "\u001b[1m31/31\u001b[0m \u001b[32m━━━━━━━━━━━━━━━━━━━━\u001b[0m\u001b[37m\u001b[0m \u001b[1m7s\u001b[0m 232ms/step - accuracy: 0.9746 - loss: 0.1075 - val_accuracy: 0.9718 - val_loss: 0.1114\n",
      "Epoch 46/1000\n",
      "\u001b[1m31/31\u001b[0m \u001b[32m━━━━━━━━━━━━━━━━━━━━\u001b[0m\u001b[37m\u001b[0m \u001b[1m0s\u001b[0m 204ms/step - accuracy: 0.9767 - loss: 0.1034\n",
      "Epoch 46: saving model to C:/GroupPJ/USTHGroupProject/Quang/Hand_Getsure_Clean/model save point/keypoint_classifier_lstm.keras\n",
      "\u001b[1m31/31\u001b[0m \u001b[32m━━━━━━━━━━━━━━━━━━━━\u001b[0m\u001b[37m\u001b[0m \u001b[1m7s\u001b[0m 235ms/step - accuracy: 0.9766 - loss: 0.1040 - val_accuracy: 0.9779 - val_loss: 0.0866\n",
      "Epoch 47/1000\n",
      "\u001b[1m31/31\u001b[0m \u001b[32m━━━━━━━━━━━━━━━━━━━━\u001b[0m\u001b[37m\u001b[0m \u001b[1m0s\u001b[0m 203ms/step - accuracy: 0.9717 - loss: 0.1259\n",
      "Epoch 47: saving model to C:/GroupPJ/USTHGroupProject/Quang/Hand_Getsure_Clean/model save point/keypoint_classifier_lstm.keras\n",
      "\u001b[1m31/31\u001b[0m \u001b[32m━━━━━━━━━━━━━━━━━━━━\u001b[0m\u001b[37m\u001b[0m \u001b[1m7s\u001b[0m 235ms/step - accuracy: 0.9718 - loss: 0.1256 - val_accuracy: 0.9718 - val_loss: 0.1108\n",
      "Epoch 48/1000\n",
      "\u001b[1m31/31\u001b[0m \u001b[32m━━━━━━━━━━━━━━━━━━━━\u001b[0m\u001b[37m\u001b[0m \u001b[1m0s\u001b[0m 193ms/step - accuracy: 0.9737 - loss: 0.1078\n",
      "Epoch 48: saving model to C:/GroupPJ/USTHGroupProject/Quang/Hand_Getsure_Clean/model save point/keypoint_classifier_lstm.keras\n",
      "\u001b[1m31/31\u001b[0m \u001b[32m━━━━━━━━━━━━━━━━━━━━\u001b[0m\u001b[37m\u001b[0m \u001b[1m7s\u001b[0m 226ms/step - accuracy: 0.9737 - loss: 0.1077 - val_accuracy: 0.9809 - val_loss: 0.0731\n",
      "Epoch 49/1000\n",
      "\u001b[1m31/31\u001b[0m \u001b[32m━━━━━━━━━━━━━━━━━━━━\u001b[0m\u001b[37m\u001b[0m \u001b[1m0s\u001b[0m 202ms/step - accuracy: 0.9762 - loss: 0.0982\n",
      "Epoch 49: saving model to C:/GroupPJ/USTHGroupProject/Quang/Hand_Getsure_Clean/model save point/keypoint_classifier_lstm.keras\n",
      "\u001b[1m31/31\u001b[0m \u001b[32m━━━━━━━━━━━━━━━━━━━━\u001b[0m\u001b[37m\u001b[0m \u001b[1m7s\u001b[0m 231ms/step - accuracy: 0.9762 - loss: 0.0985 - val_accuracy: 0.9794 - val_loss: 0.0831\n",
      "Epoch 50/1000\n",
      "\u001b[1m31/31\u001b[0m \u001b[32m━━━━━━━━━━━━━━━━━━━━\u001b[0m\u001b[37m\u001b[0m \u001b[1m0s\u001b[0m 206ms/step - accuracy: 0.9798 - loss: 0.0900\n",
      "Epoch 50: saving model to C:/GroupPJ/USTHGroupProject/Quang/Hand_Getsure_Clean/model save point/keypoint_classifier_lstm.keras\n",
      "\u001b[1m31/31\u001b[0m \u001b[32m━━━━━━━━━━━━━━━━━━━━\u001b[0m\u001b[37m\u001b[0m \u001b[1m7s\u001b[0m 237ms/step - accuracy: 0.9798 - loss: 0.0901 - val_accuracy: 0.9741 - val_loss: 0.0987\n",
      "Epoch 51/1000\n",
      "\u001b[1m31/31\u001b[0m \u001b[32m━━━━━━━━━━━━━━━━━━━━\u001b[0m\u001b[37m\u001b[0m \u001b[1m0s\u001b[0m 199ms/step - accuracy: 0.9795 - loss: 0.0810\n",
      "Epoch 51: saving model to C:/GroupPJ/USTHGroupProject/Quang/Hand_Getsure_Clean/model save point/keypoint_classifier_lstm.keras\n",
      "\u001b[1m31/31\u001b[0m \u001b[32m━━━━━━━━━━━━━━━━━━━━\u001b[0m\u001b[37m\u001b[0m \u001b[1m7s\u001b[0m 230ms/step - accuracy: 0.9795 - loss: 0.0812 - val_accuracy: 0.9725 - val_loss: 0.0804\n",
      "Epoch 52/1000\n",
      "\u001b[1m31/31\u001b[0m \u001b[32m━━━━━━━━━━━━━━━━━━━━\u001b[0m\u001b[37m\u001b[0m \u001b[1m0s\u001b[0m 201ms/step - accuracy: 0.9771 - loss: 0.0915\n",
      "Epoch 52: saving model to C:/GroupPJ/USTHGroupProject/Quang/Hand_Getsure_Clean/model save point/keypoint_classifier_lstm.keras\n",
      "\u001b[1m31/31\u001b[0m \u001b[32m━━━━━━━━━━━━━━━━━━━━\u001b[0m\u001b[37m\u001b[0m \u001b[1m7s\u001b[0m 230ms/step - accuracy: 0.9771 - loss: 0.0916 - val_accuracy: 0.9809 - val_loss: 0.0665\n",
      "Epoch 53/1000\n",
      "\u001b[1m31/31\u001b[0m \u001b[32m━━━━━━━━━━━━━━━━━━━━\u001b[0m\u001b[37m\u001b[0m \u001b[1m0s\u001b[0m 200ms/step - accuracy: 0.9825 - loss: 0.0753\n",
      "Epoch 53: saving model to C:/GroupPJ/USTHGroupProject/Quang/Hand_Getsure_Clean/model save point/keypoint_classifier_lstm.keras\n",
      "\u001b[1m31/31\u001b[0m \u001b[32m━━━━━━━━━━━━━━━━━━━━\u001b[0m\u001b[37m\u001b[0m \u001b[1m7s\u001b[0m 230ms/step - accuracy: 0.9825 - loss: 0.0755 - val_accuracy: 0.9786 - val_loss: 0.0631\n",
      "Epoch 54/1000\n",
      "\u001b[1m31/31\u001b[0m \u001b[32m━━━━━━━━━━━━━━━━━━━━\u001b[0m\u001b[37m\u001b[0m \u001b[1m0s\u001b[0m 201ms/step - accuracy: 0.9828 - loss: 0.0786\n",
      "Epoch 54: saving model to C:/GroupPJ/USTHGroupProject/Quang/Hand_Getsure_Clean/model save point/keypoint_classifier_lstm.keras\n",
      "\u001b[1m31/31\u001b[0m \u001b[32m━━━━━━━━━━━━━━━━━━━━\u001b[0m\u001b[37m\u001b[0m \u001b[1m7s\u001b[0m 240ms/step - accuracy: 0.9827 - loss: 0.0791 - val_accuracy: 0.9771 - val_loss: 0.0768\n",
      "Epoch 55/1000\n",
      "\u001b[1m31/31\u001b[0m \u001b[32m━━━━━━━━━━━━━━━━━━━━\u001b[0m\u001b[37m\u001b[0m \u001b[1m0s\u001b[0m 215ms/step - accuracy: 0.9772 - loss: 0.1017\n",
      "Epoch 55: saving model to C:/GroupPJ/USTHGroupProject/Quang/Hand_Getsure_Clean/model save point/keypoint_classifier_lstm.keras\n",
      "\u001b[1m31/31\u001b[0m \u001b[32m━━━━━━━━━━━━━━━━━━━━\u001b[0m\u001b[37m\u001b[0m \u001b[1m8s\u001b[0m 246ms/step - accuracy: 0.9772 - loss: 0.1016 - val_accuracy: 0.9657 - val_loss: 0.1186\n",
      "Epoch 56/1000\n",
      "\u001b[1m31/31\u001b[0m \u001b[32m━━━━━━━━━━━━━━━━━━━━\u001b[0m\u001b[37m\u001b[0m \u001b[1m0s\u001b[0m 203ms/step - accuracy: 0.9737 - loss: 0.1072\n",
      "Epoch 56: saving model to C:/GroupPJ/USTHGroupProject/Quang/Hand_Getsure_Clean/model save point/keypoint_classifier_lstm.keras\n",
      "\u001b[1m31/31\u001b[0m \u001b[32m━━━━━━━━━━━━━━━━━━━━\u001b[0m\u001b[37m\u001b[0m \u001b[1m7s\u001b[0m 233ms/step - accuracy: 0.9737 - loss: 0.1069 - val_accuracy: 0.9687 - val_loss: 0.1016\n",
      "Epoch 57/1000\n",
      "\u001b[1m31/31\u001b[0m \u001b[32m━━━━━━━━━━━━━━━━━━━━\u001b[0m\u001b[37m\u001b[0m \u001b[1m0s\u001b[0m 201ms/step - accuracy: 0.9718 - loss: 0.1018\n",
      "Epoch 57: saving model to C:/GroupPJ/USTHGroupProject/Quang/Hand_Getsure_Clean/model save point/keypoint_classifier_lstm.keras\n",
      "\u001b[1m31/31\u001b[0m \u001b[32m━━━━━━━━━━━━━━━━━━━━\u001b[0m\u001b[37m\u001b[0m \u001b[1m7s\u001b[0m 234ms/step - accuracy: 0.9719 - loss: 0.1018 - val_accuracy: 0.9725 - val_loss: 0.0989\n",
      "Epoch 58/1000\n",
      "\u001b[1m31/31\u001b[0m \u001b[32m━━━━━━━━━━━━━━━━━━━━\u001b[0m\u001b[37m\u001b[0m \u001b[1m0s\u001b[0m 203ms/step - accuracy: 0.9727 - loss: 0.0988\n",
      "Epoch 58: saving model to C:/GroupPJ/USTHGroupProject/Quang/Hand_Getsure_Clean/model save point/keypoint_classifier_lstm.keras\n",
      "\u001b[1m31/31\u001b[0m \u001b[32m━━━━━━━━━━━━━━━━━━━━\u001b[0m\u001b[37m\u001b[0m \u001b[1m7s\u001b[0m 234ms/step - accuracy: 0.9728 - loss: 0.0985 - val_accuracy: 0.9779 - val_loss: 0.0742\n",
      "Epoch 59/1000\n",
      "\u001b[1m31/31\u001b[0m \u001b[32m━━━━━━━━━━━━━━━━━━━━\u001b[0m\u001b[37m\u001b[0m \u001b[1m0s\u001b[0m 202ms/step - accuracy: 0.9816 - loss: 0.0804\n",
      "Epoch 59: saving model to C:/GroupPJ/USTHGroupProject/Quang/Hand_Getsure_Clean/model save point/keypoint_classifier_lstm.keras\n",
      "\u001b[1m31/31\u001b[0m \u001b[32m━━━━━━━━━━━━━━━━━━━━\u001b[0m\u001b[37m\u001b[0m \u001b[1m7s\u001b[0m 233ms/step - accuracy: 0.9816 - loss: 0.0802 - val_accuracy: 0.9764 - val_loss: 0.0741\n",
      "Epoch 60/1000\n",
      "\u001b[1m31/31\u001b[0m \u001b[32m━━━━━━━━━━━━━━━━━━━━\u001b[0m\u001b[37m\u001b[0m \u001b[1m0s\u001b[0m 202ms/step - accuracy: 0.9852 - loss: 0.0697\n",
      "Epoch 60: saving model to C:/GroupPJ/USTHGroupProject/Quang/Hand_Getsure_Clean/model save point/keypoint_classifier_lstm.keras\n",
      "\u001b[1m31/31\u001b[0m \u001b[32m━━━━━━━━━━━━━━━━━━━━\u001b[0m\u001b[37m\u001b[0m \u001b[1m7s\u001b[0m 233ms/step - accuracy: 0.9851 - loss: 0.0699 - val_accuracy: 0.9870 - val_loss: 0.0574\n",
      "Epoch 61/1000\n",
      "\u001b[1m31/31\u001b[0m \u001b[32m━━━━━━━━━━━━━━━━━━━━\u001b[0m\u001b[37m\u001b[0m \u001b[1m0s\u001b[0m 194ms/step - accuracy: 0.9851 - loss: 0.0619\n",
      "Epoch 61: saving model to C:/GroupPJ/USTHGroupProject/Quang/Hand_Getsure_Clean/model save point/keypoint_classifier_lstm.keras\n",
      "\u001b[1m31/31\u001b[0m \u001b[32m━━━━━━━━━━━━━━━━━━━━\u001b[0m\u001b[37m\u001b[0m \u001b[1m7s\u001b[0m 224ms/step - accuracy: 0.9851 - loss: 0.0621 - val_accuracy: 0.9794 - val_loss: 0.0675\n",
      "Epoch 62/1000\n",
      "\u001b[1m31/31\u001b[0m \u001b[32m━━━━━━━━━━━━━━━━━━━━\u001b[0m\u001b[37m\u001b[0m \u001b[1m0s\u001b[0m 191ms/step - accuracy: 0.9828 - loss: 0.0820\n",
      "Epoch 62: saving model to C:/GroupPJ/USTHGroupProject/Quang/Hand_Getsure_Clean/model save point/keypoint_classifier_lstm.keras\n",
      "\u001b[1m31/31\u001b[0m \u001b[32m━━━━━━━━━━━━━━━━━━━━\u001b[0m\u001b[37m\u001b[0m \u001b[1m7s\u001b[0m 221ms/step - accuracy: 0.9828 - loss: 0.0815 - val_accuracy: 0.9710 - val_loss: 0.0972\n",
      "Epoch 63/1000\n",
      "\u001b[1m31/31\u001b[0m \u001b[32m━━━━━━━━━━━━━━━━━━━━\u001b[0m\u001b[37m\u001b[0m \u001b[1m0s\u001b[0m 175ms/step - accuracy: 0.9727 - loss: 0.1119\n",
      "Epoch 63: saving model to C:/GroupPJ/USTHGroupProject/Quang/Hand_Getsure_Clean/model save point/keypoint_classifier_lstm.keras\n",
      "\u001b[1m31/31\u001b[0m \u001b[32m━━━━━━━━━━━━━━━━━━━━\u001b[0m\u001b[37m\u001b[0m \u001b[1m6s\u001b[0m 204ms/step - accuracy: 0.9727 - loss: 0.1119 - val_accuracy: 0.9741 - val_loss: 0.0888\n",
      "Epoch 64/1000\n",
      "\u001b[1m31/31\u001b[0m \u001b[32m━━━━━━━━━━━━━━━━━━━━\u001b[0m\u001b[37m\u001b[0m \u001b[1m0s\u001b[0m 11s/step - accuracy: 0.9803 - loss: 0.0897 \n",
      "Epoch 64: saving model to C:/GroupPJ/USTHGroupProject/Quang/Hand_Getsure_Clean/model save point/keypoint_classifier_lstm.keras\n",
      "\u001b[1m31/31\u001b[0m \u001b[32m━━━━━━━━━━━━━━━━━━━━\u001b[0m\u001b[37m\u001b[0m \u001b[1m322s\u001b[0m 11s/step - accuracy: 0.9804 - loss: 0.0892 - val_accuracy: 0.9832 - val_loss: 0.0627\n",
      "Epoch 65/1000\n",
      "\u001b[1m31/31\u001b[0m \u001b[32m━━━━━━━━━━━━━━━━━━━━\u001b[0m\u001b[37m\u001b[0m \u001b[1m0s\u001b[0m 207ms/step - accuracy: 0.9853 - loss: 0.0684\n",
      "Epoch 65: saving model to C:/GroupPJ/USTHGroupProject/Quang/Hand_Getsure_Clean/model save point/keypoint_classifier_lstm.keras\n",
      "\u001b[1m31/31\u001b[0m \u001b[32m━━━━━━━━━━━━━━━━━━━━\u001b[0m\u001b[37m\u001b[0m \u001b[1m7s\u001b[0m 238ms/step - accuracy: 0.9853 - loss: 0.0682 - val_accuracy: 0.9847 - val_loss: 0.0611\n",
      "Epoch 66/1000\n",
      "\u001b[1m31/31\u001b[0m \u001b[32m━━━━━━━━━━━━━━━━━━━━\u001b[0m\u001b[37m\u001b[0m \u001b[1m0s\u001b[0m 201ms/step - accuracy: 0.9843 - loss: 0.0647\n",
      "Epoch 66: saving model to C:/GroupPJ/USTHGroupProject/Quang/Hand_Getsure_Clean/model save point/keypoint_classifier_lstm.keras\n",
      "\u001b[1m31/31\u001b[0m \u001b[32m━━━━━━━━━━━━━━━━━━━━\u001b[0m\u001b[37m\u001b[0m \u001b[1m7s\u001b[0m 230ms/step - accuracy: 0.9843 - loss: 0.0652 - val_accuracy: 0.9786 - val_loss: 0.0673\n",
      "Epoch 67/1000\n",
      "\u001b[1m31/31\u001b[0m \u001b[32m━━━━━━━━━━━━━━━━━━━━\u001b[0m\u001b[37m\u001b[0m \u001b[1m0s\u001b[0m 198ms/step - accuracy: 0.9776 - loss: 0.0851\n",
      "Epoch 67: saving model to C:/GroupPJ/USTHGroupProject/Quang/Hand_Getsure_Clean/model save point/keypoint_classifier_lstm.keras\n",
      "\u001b[1m31/31\u001b[0m \u001b[32m━━━━━━━━━━━━━━━━━━━━\u001b[0m\u001b[37m\u001b[0m \u001b[1m7s\u001b[0m 228ms/step - accuracy: 0.9776 - loss: 0.0852 - val_accuracy: 0.9840 - val_loss: 0.0633\n",
      "Epoch 68/1000\n",
      "\u001b[1m31/31\u001b[0m \u001b[32m━━━━━━━━━━━━━━━━━━━━\u001b[0m\u001b[37m\u001b[0m \u001b[1m0s\u001b[0m 200ms/step - accuracy: 0.9864 - loss: 0.0639\n",
      "Epoch 68: saving model to C:/GroupPJ/USTHGroupProject/Quang/Hand_Getsure_Clean/model save point/keypoint_classifier_lstm.keras\n",
      "\u001b[1m31/31\u001b[0m \u001b[32m━━━━━━━━━━━━━━━━━━━━\u001b[0m\u001b[37m\u001b[0m \u001b[1m7s\u001b[0m 231ms/step - accuracy: 0.9862 - loss: 0.0644 - val_accuracy: 0.9802 - val_loss: 0.0759\n",
      "Epoch 69/1000\n",
      "\u001b[1m31/31\u001b[0m \u001b[32m━━━━━━━━━━━━━━━━━━━━\u001b[0m\u001b[37m\u001b[0m \u001b[1m0s\u001b[0m 202ms/step - accuracy: 0.9778 - loss: 0.0858\n",
      "Epoch 69: saving model to C:/GroupPJ/USTHGroupProject/Quang/Hand_Getsure_Clean/model save point/keypoint_classifier_lstm.keras\n",
      "\u001b[1m31/31\u001b[0m \u001b[32m━━━━━━━━━━━━━━━━━━━━\u001b[0m\u001b[37m\u001b[0m \u001b[1m7s\u001b[0m 234ms/step - accuracy: 0.9779 - loss: 0.0854 - val_accuracy: 0.9832 - val_loss: 0.0546\n",
      "Epoch 70/1000\n",
      "\u001b[1m31/31\u001b[0m \u001b[32m━━━━━━━━━━━━━━━━━━━━\u001b[0m\u001b[37m\u001b[0m \u001b[1m0s\u001b[0m 205ms/step - accuracy: 0.9861 - loss: 0.0500\n",
      "Epoch 70: saving model to C:/GroupPJ/USTHGroupProject/Quang/Hand_Getsure_Clean/model save point/keypoint_classifier_lstm.keras\n",
      "\u001b[1m31/31\u001b[0m \u001b[32m━━━━━━━━━━━━━━━━━━━━\u001b[0m\u001b[37m\u001b[0m \u001b[1m7s\u001b[0m 237ms/step - accuracy: 0.9861 - loss: 0.0501 - val_accuracy: 0.9794 - val_loss: 0.0666\n",
      "Epoch 71/1000\n",
      "\u001b[1m31/31\u001b[0m \u001b[32m━━━━━━━━━━━━━━━━━━━━\u001b[0m\u001b[37m\u001b[0m \u001b[1m0s\u001b[0m 198ms/step - accuracy: 0.9747 - loss: 0.0840\n",
      "Epoch 71: saving model to C:/GroupPJ/USTHGroupProject/Quang/Hand_Getsure_Clean/model save point/keypoint_classifier_lstm.keras\n",
      "\u001b[1m31/31\u001b[0m \u001b[32m━━━━━━━━━━━━━━━━━━━━\u001b[0m\u001b[37m\u001b[0m \u001b[1m7s\u001b[0m 229ms/step - accuracy: 0.9746 - loss: 0.0843 - val_accuracy: 0.9825 - val_loss: 0.0623\n",
      "Epoch 72/1000\n",
      "\u001b[1m31/31\u001b[0m \u001b[32m━━━━━━━━━━━━━━━━━━━━\u001b[0m\u001b[37m\u001b[0m \u001b[1m0s\u001b[0m 210ms/step - accuracy: 0.9764 - loss: 0.0968\n",
      "Epoch 72: saving model to C:/GroupPJ/USTHGroupProject/Quang/Hand_Getsure_Clean/model save point/keypoint_classifier_lstm.keras\n",
      "\u001b[1m31/31\u001b[0m \u001b[32m━━━━━━━━━━━━━━━━━━━━\u001b[0m\u001b[37m\u001b[0m \u001b[1m7s\u001b[0m 242ms/step - accuracy: 0.9765 - loss: 0.0964 - val_accuracy: 0.9802 - val_loss: 0.0739\n",
      "Epoch 73/1000\n",
      "\u001b[1m31/31\u001b[0m \u001b[32m━━━━━━━━━━━━━━━━━━━━\u001b[0m\u001b[37m\u001b[0m \u001b[1m0s\u001b[0m 203ms/step - accuracy: 0.9822 - loss: 0.0589\n",
      "Epoch 73: saving model to C:/GroupPJ/USTHGroupProject/Quang/Hand_Getsure_Clean/model save point/keypoint_classifier_lstm.keras\n",
      "\u001b[1m31/31\u001b[0m \u001b[32m━━━━━━━━━━━━━━━━━━━━\u001b[0m\u001b[37m\u001b[0m \u001b[1m7s\u001b[0m 234ms/step - accuracy: 0.9822 - loss: 0.0588 - val_accuracy: 0.9886 - val_loss: 0.0440\n",
      "Epoch 74/1000\n",
      "\u001b[1m31/31\u001b[0m \u001b[32m━━━━━━━━━━━━━━━━━━━━\u001b[0m\u001b[37m\u001b[0m \u001b[1m0s\u001b[0m 197ms/step - accuracy: 0.9912 - loss: 0.0431\n",
      "Epoch 74: saving model to C:/GroupPJ/USTHGroupProject/Quang/Hand_Getsure_Clean/model save point/keypoint_classifier_lstm.keras\n",
      "\u001b[1m31/31\u001b[0m \u001b[32m━━━━━━━━━━━━━━━━━━━━\u001b[0m\u001b[37m\u001b[0m \u001b[1m7s\u001b[0m 229ms/step - accuracy: 0.9911 - loss: 0.0433 - val_accuracy: 0.9832 - val_loss: 0.0595\n",
      "Epoch 75/1000\n",
      "\u001b[1m31/31\u001b[0m \u001b[32m━━━━━━━━━━━━━━━━━━━━\u001b[0m\u001b[37m\u001b[0m \u001b[1m0s\u001b[0m 203ms/step - accuracy: 0.9853 - loss: 0.0528\n",
      "Epoch 75: saving model to C:/GroupPJ/USTHGroupProject/Quang/Hand_Getsure_Clean/model save point/keypoint_classifier_lstm.keras\n",
      "\u001b[1m31/31\u001b[0m \u001b[32m━━━━━━━━━━━━━━━━━━━━\u001b[0m\u001b[37m\u001b[0m \u001b[1m7s\u001b[0m 234ms/step - accuracy: 0.9854 - loss: 0.0528 - val_accuracy: 0.9840 - val_loss: 0.0549\n",
      "Epoch 76/1000\n",
      "\u001b[1m31/31\u001b[0m \u001b[32m━━━━━━━━━━━━━━━━━━━━\u001b[0m\u001b[37m\u001b[0m \u001b[1m0s\u001b[0m 196ms/step - accuracy: 0.9857 - loss: 0.0583\n",
      "Epoch 76: saving model to C:/GroupPJ/USTHGroupProject/Quang/Hand_Getsure_Clean/model save point/keypoint_classifier_lstm.keras\n",
      "\u001b[1m31/31\u001b[0m \u001b[32m━━━━━━━━━━━━━━━━━━━━\u001b[0m\u001b[37m\u001b[0m \u001b[1m7s\u001b[0m 228ms/step - accuracy: 0.9856 - loss: 0.0583 - val_accuracy: 0.9809 - val_loss: 0.0711\n",
      "Epoch 77/1000\n",
      "\u001b[1m31/31\u001b[0m \u001b[32m━━━━━━━━━━━━━━━━━━━━\u001b[0m\u001b[37m\u001b[0m \u001b[1m0s\u001b[0m 197ms/step - accuracy: 0.9821 - loss: 0.0728\n",
      "Epoch 77: saving model to C:/GroupPJ/USTHGroupProject/Quang/Hand_Getsure_Clean/model save point/keypoint_classifier_lstm.keras\n",
      "\u001b[1m31/31\u001b[0m \u001b[32m━━━━━━━━━━━━━━━━━━━━\u001b[0m\u001b[37m\u001b[0m \u001b[1m7s\u001b[0m 230ms/step - accuracy: 0.9822 - loss: 0.0726 - val_accuracy: 0.9840 - val_loss: 0.0700\n",
      "Epoch 78/1000\n",
      "\u001b[1m31/31\u001b[0m \u001b[32m━━━━━━━━━━━━━━━━━━━━\u001b[0m\u001b[37m\u001b[0m \u001b[1m0s\u001b[0m 199ms/step - accuracy: 0.9858 - loss: 0.0643\n",
      "Epoch 78: saving model to C:/GroupPJ/USTHGroupProject/Quang/Hand_Getsure_Clean/model save point/keypoint_classifier_lstm.keras\n",
      "\u001b[1m31/31\u001b[0m \u001b[32m━━━━━━━━━━━━━━━━━━━━\u001b[0m\u001b[37m\u001b[0m \u001b[1m7s\u001b[0m 228ms/step - accuracy: 0.9858 - loss: 0.0644 - val_accuracy: 0.9870 - val_loss: 0.0619\n",
      "Epoch 79/1000\n",
      "\u001b[1m31/31\u001b[0m \u001b[32m━━━━━━━━━━━━━━━━━━━━\u001b[0m\u001b[37m\u001b[0m \u001b[1m0s\u001b[0m 198ms/step - accuracy: 0.9880 - loss: 0.0493\n",
      "Epoch 79: saving model to C:/GroupPJ/USTHGroupProject/Quang/Hand_Getsure_Clean/model save point/keypoint_classifier_lstm.keras\n",
      "\u001b[1m31/31\u001b[0m \u001b[32m━━━━━━━━━━━━━━━━━━━━\u001b[0m\u001b[37m\u001b[0m \u001b[1m7s\u001b[0m 227ms/step - accuracy: 0.9880 - loss: 0.0493 - val_accuracy: 0.9863 - val_loss: 0.0518\n",
      "Epoch 80/1000\n",
      "\u001b[1m31/31\u001b[0m \u001b[32m━━━━━━━━━━━━━━━━━━━━\u001b[0m\u001b[37m\u001b[0m \u001b[1m0s\u001b[0m 196ms/step - accuracy: 0.9895 - loss: 0.0505\n",
      "Epoch 80: saving model to C:/GroupPJ/USTHGroupProject/Quang/Hand_Getsure_Clean/model save point/keypoint_classifier_lstm.keras\n",
      "\u001b[1m31/31\u001b[0m \u001b[32m━━━━━━━━━━━━━━━━━━━━\u001b[0m\u001b[37m\u001b[0m \u001b[1m7s\u001b[0m 234ms/step - accuracy: 0.9894 - loss: 0.0507 - val_accuracy: 0.9847 - val_loss: 0.0591\n",
      "Epoch 81/1000\n",
      "\u001b[1m31/31\u001b[0m \u001b[32m━━━━━━━━━━━━━━━━━━━━\u001b[0m\u001b[37m\u001b[0m \u001b[1m0s\u001b[0m 205ms/step - accuracy: 0.9830 - loss: 0.0673\n",
      "Epoch 81: saving model to C:/GroupPJ/USTHGroupProject/Quang/Hand_Getsure_Clean/model save point/keypoint_classifier_lstm.keras\n",
      "\u001b[1m31/31\u001b[0m \u001b[32m━━━━━━━━━━━━━━━━━━━━\u001b[0m\u001b[37m\u001b[0m \u001b[1m7s\u001b[0m 237ms/step - accuracy: 0.9831 - loss: 0.0673 - val_accuracy: 0.9519 - val_loss: 0.1588\n",
      "Epoch 82/1000\n",
      "\u001b[1m31/31\u001b[0m \u001b[32m━━━━━━━━━━━━━━━━━━━━\u001b[0m\u001b[37m\u001b[0m \u001b[1m0s\u001b[0m 202ms/step - accuracy: 0.9819 - loss: 0.0765\n",
      "Epoch 82: saving model to C:/GroupPJ/USTHGroupProject/Quang/Hand_Getsure_Clean/model save point/keypoint_classifier_lstm.keras\n",
      "\u001b[1m31/31\u001b[0m \u001b[32m━━━━━━━━━━━━━━━━━━━━\u001b[0m\u001b[37m\u001b[0m \u001b[1m7s\u001b[0m 235ms/step - accuracy: 0.9818 - loss: 0.0765 - val_accuracy: 0.9794 - val_loss: 0.0879\n",
      "Epoch 83/1000\n",
      "\u001b[1m31/31\u001b[0m \u001b[32m━━━━━━━━━━━━━━━━━━━━\u001b[0m\u001b[37m\u001b[0m \u001b[1m0s\u001b[0m 200ms/step - accuracy: 0.9809 - loss: 0.0716\n",
      "Epoch 83: saving model to C:/GroupPJ/USTHGroupProject/Quang/Hand_Getsure_Clean/model save point/keypoint_classifier_lstm.keras\n",
      "\u001b[1m31/31\u001b[0m \u001b[32m━━━━━━━━━━━━━━━━━━━━\u001b[0m\u001b[37m\u001b[0m \u001b[1m7s\u001b[0m 229ms/step - accuracy: 0.9810 - loss: 0.0714 - val_accuracy: 0.9901 - val_loss: 0.0428\n",
      "Epoch 84/1000\n",
      "\u001b[1m31/31\u001b[0m \u001b[32m━━━━━━━━━━━━━━━━━━━━\u001b[0m\u001b[37m\u001b[0m \u001b[1m0s\u001b[0m 195ms/step - accuracy: 0.9879 - loss: 0.0485\n",
      "Epoch 84: saving model to C:/GroupPJ/USTHGroupProject/Quang/Hand_Getsure_Clean/model save point/keypoint_classifier_lstm.keras\n",
      "\u001b[1m31/31\u001b[0m \u001b[32m━━━━━━━━━━━━━━━━━━━━\u001b[0m\u001b[37m\u001b[0m \u001b[1m7s\u001b[0m 225ms/step - accuracy: 0.9880 - loss: 0.0484 - val_accuracy: 0.9863 - val_loss: 0.0491\n",
      "Epoch 85/1000\n",
      "\u001b[1m31/31\u001b[0m \u001b[32m━━━━━━━━━━━━━━━━━━━━\u001b[0m\u001b[37m\u001b[0m \u001b[1m0s\u001b[0m 198ms/step - accuracy: 0.9867 - loss: 0.0406\n",
      "Epoch 85: saving model to C:/GroupPJ/USTHGroupProject/Quang/Hand_Getsure_Clean/model save point/keypoint_classifier_lstm.keras\n",
      "\u001b[1m31/31\u001b[0m \u001b[32m━━━━━━━━━━━━━━━━━━━━\u001b[0m\u001b[37m\u001b[0m \u001b[1m7s\u001b[0m 228ms/step - accuracy: 0.9866 - loss: 0.0408 - val_accuracy: 0.9832 - val_loss: 0.0771\n",
      "Epoch 86/1000\n",
      "\u001b[1m31/31\u001b[0m \u001b[32m━━━━━━━━━━━━━━━━━━━━\u001b[0m\u001b[37m\u001b[0m \u001b[1m0s\u001b[0m 201ms/step - accuracy: 0.9822 - loss: 0.0703\n",
      "Epoch 86: saving model to C:/GroupPJ/USTHGroupProject/Quang/Hand_Getsure_Clean/model save point/keypoint_classifier_lstm.keras\n",
      "\u001b[1m31/31\u001b[0m \u001b[32m━━━━━━━━━━━━━━━━━━━━\u001b[0m\u001b[37m\u001b[0m \u001b[1m7s\u001b[0m 230ms/step - accuracy: 0.9821 - loss: 0.0704 - val_accuracy: 0.9847 - val_loss: 0.0640\n",
      "Epoch 87/1000\n",
      "\u001b[1m31/31\u001b[0m \u001b[32m━━━━━━━━━━━━━━━━━━━━\u001b[0m\u001b[37m\u001b[0m \u001b[1m0s\u001b[0m 204ms/step - accuracy: 0.9890 - loss: 0.0489\n",
      "Epoch 87: saving model to C:/GroupPJ/USTHGroupProject/Quang/Hand_Getsure_Clean/model save point/keypoint_classifier_lstm.keras\n",
      "\u001b[1m31/31\u001b[0m \u001b[32m━━━━━━━━━━━━━━━━━━━━\u001b[0m\u001b[37m\u001b[0m \u001b[1m7s\u001b[0m 236ms/step - accuracy: 0.9889 - loss: 0.0489 - val_accuracy: 0.9901 - val_loss: 0.0496\n",
      "Epoch 88/1000\n",
      "\u001b[1m31/31\u001b[0m \u001b[32m━━━━━━━━━━━━━━━━━━━━\u001b[0m\u001b[37m\u001b[0m \u001b[1m0s\u001b[0m 201ms/step - accuracy: 0.9883 - loss: 0.0492\n",
      "Epoch 88: saving model to C:/GroupPJ/USTHGroupProject/Quang/Hand_Getsure_Clean/model save point/keypoint_classifier_lstm.keras\n",
      "\u001b[1m31/31\u001b[0m \u001b[32m━━━━━━━━━━━━━━━━━━━━\u001b[0m\u001b[37m\u001b[0m \u001b[1m7s\u001b[0m 231ms/step - accuracy: 0.9882 - loss: 0.0493 - val_accuracy: 0.9809 - val_loss: 0.0827\n",
      "Epoch 89/1000\n",
      "\u001b[1m31/31\u001b[0m \u001b[32m━━━━━━━━━━━━━━━━━━━━\u001b[0m\u001b[37m\u001b[0m \u001b[1m0s\u001b[0m 194ms/step - accuracy: 0.9892 - loss: 0.0532\n",
      "Epoch 89: saving model to C:/GroupPJ/USTHGroupProject/Quang/Hand_Getsure_Clean/model save point/keypoint_classifier_lstm.keras\n",
      "\u001b[1m31/31\u001b[0m \u001b[32m━━━━━━━━━━━━━━━━━━━━\u001b[0m\u001b[37m\u001b[0m \u001b[1m7s\u001b[0m 224ms/step - accuracy: 0.9891 - loss: 0.0532 - val_accuracy: 0.9817 - val_loss: 0.0648\n",
      "Epoch 90/1000\n",
      "\u001b[1m31/31\u001b[0m \u001b[32m━━━━━━━━━━━━━━━━━━━━\u001b[0m\u001b[37m\u001b[0m \u001b[1m0s\u001b[0m 206ms/step - accuracy: 0.9868 - loss: 0.0555\n",
      "Epoch 90: saving model to C:/GroupPJ/USTHGroupProject/Quang/Hand_Getsure_Clean/model save point/keypoint_classifier_lstm.keras\n",
      "\u001b[1m31/31\u001b[0m \u001b[32m━━━━━━━━━━━━━━━━━━━━\u001b[0m\u001b[37m\u001b[0m \u001b[1m7s\u001b[0m 237ms/step - accuracy: 0.9868 - loss: 0.0555 - val_accuracy: 0.9817 - val_loss: 0.0738\n",
      "Epoch 91/1000\n",
      "\u001b[1m31/31\u001b[0m \u001b[32m━━━━━━━━━━━━━━━━━━━━\u001b[0m\u001b[37m\u001b[0m \u001b[1m0s\u001b[0m 200ms/step - accuracy: 0.9892 - loss: 0.0501\n",
      "Epoch 91: saving model to C:/GroupPJ/USTHGroupProject/Quang/Hand_Getsure_Clean/model save point/keypoint_classifier_lstm.keras\n",
      "\u001b[1m31/31\u001b[0m \u001b[32m━━━━━━━━━━━━━━━━━━━━\u001b[0m\u001b[37m\u001b[0m \u001b[1m7s\u001b[0m 230ms/step - accuracy: 0.9891 - loss: 0.0502 - val_accuracy: 0.9878 - val_loss: 0.0618\n",
      "Epoch 92/1000\n",
      "\u001b[1m31/31\u001b[0m \u001b[32m━━━━━━━━━━━━━━━━━━━━\u001b[0m\u001b[37m\u001b[0m \u001b[1m0s\u001b[0m 201ms/step - accuracy: 0.9854 - loss: 0.0558\n",
      "Epoch 92: saving model to C:/GroupPJ/USTHGroupProject/Quang/Hand_Getsure_Clean/model save point/keypoint_classifier_lstm.keras\n",
      "\u001b[1m31/31\u001b[0m \u001b[32m━━━━━━━━━━━━━━━━━━━━\u001b[0m\u001b[37m\u001b[0m \u001b[1m7s\u001b[0m 232ms/step - accuracy: 0.9854 - loss: 0.0558 - val_accuracy: 0.9878 - val_loss: 0.0574\n",
      "Epoch 93/1000\n",
      "\u001b[1m31/31\u001b[0m \u001b[32m━━━━━━━━━━━━━━━━━━━━\u001b[0m\u001b[37m\u001b[0m \u001b[1m0s\u001b[0m 197ms/step - accuracy: 0.9875 - loss: 0.0501\n",
      "Epoch 93: saving model to C:/GroupPJ/USTHGroupProject/Quang/Hand_Getsure_Clean/model save point/keypoint_classifier_lstm.keras\n",
      "\u001b[1m31/31\u001b[0m \u001b[32m━━━━━━━━━━━━━━━━━━━━\u001b[0m\u001b[37m\u001b[0m \u001b[1m7s\u001b[0m 226ms/step - accuracy: 0.9875 - loss: 0.0502 - val_accuracy: 0.9847 - val_loss: 0.0655\n",
      "Epoch 94/1000\n",
      "\u001b[1m31/31\u001b[0m \u001b[32m━━━━━━━━━━━━━━━━━━━━\u001b[0m\u001b[37m\u001b[0m \u001b[1m0s\u001b[0m 195ms/step - accuracy: 0.9857 - loss: 0.0505\n",
      "Epoch 94: saving model to C:/GroupPJ/USTHGroupProject/Quang/Hand_Getsure_Clean/model save point/keypoint_classifier_lstm.keras\n",
      "\u001b[1m31/31\u001b[0m \u001b[32m━━━━━━━━━━━━━━━━━━━━\u001b[0m\u001b[37m\u001b[0m \u001b[1m7s\u001b[0m 224ms/step - accuracy: 0.9858 - loss: 0.0504 - val_accuracy: 0.9863 - val_loss: 0.0614\n",
      "Epoch 95/1000\n",
      "\u001b[1m31/31\u001b[0m \u001b[32m━━━━━━━━━━━━━━━━━━━━\u001b[0m\u001b[37m\u001b[0m \u001b[1m0s\u001b[0m 203ms/step - accuracy: 0.9906 - loss: 0.0463\n",
      "Epoch 95: saving model to C:/GroupPJ/USTHGroupProject/Quang/Hand_Getsure_Clean/model save point/keypoint_classifier_lstm.keras\n",
      "\u001b[1m31/31\u001b[0m \u001b[32m━━━━━━━━━━━━━━━━━━━━\u001b[0m\u001b[37m\u001b[0m \u001b[1m7s\u001b[0m 234ms/step - accuracy: 0.9906 - loss: 0.0461 - val_accuracy: 0.9855 - val_loss: 0.0700\n",
      "Epoch 96/1000\n",
      "\u001b[1m31/31\u001b[0m \u001b[32m━━━━━━━━━━━━━━━━━━━━\u001b[0m\u001b[37m\u001b[0m \u001b[1m0s\u001b[0m 199ms/step - accuracy: 0.9857 - loss: 0.0571\n",
      "Epoch 96: saving model to C:/GroupPJ/USTHGroupProject/Quang/Hand_Getsure_Clean/model save point/keypoint_classifier_lstm.keras\n",
      "\u001b[1m31/31\u001b[0m \u001b[32m━━━━━━━━━━━━━━━━━━━━\u001b[0m\u001b[37m\u001b[0m \u001b[1m7s\u001b[0m 230ms/step - accuracy: 0.9858 - loss: 0.0568 - val_accuracy: 0.9886 - val_loss: 0.0428\n",
      "Epoch 97/1000\n",
      "\u001b[1m31/31\u001b[0m \u001b[32m━━━━━━━━━━━━━━━━━━━━\u001b[0m\u001b[37m\u001b[0m \u001b[1m0s\u001b[0m 203ms/step - accuracy: 0.9874 - loss: 0.0518\n",
      "Epoch 97: saving model to C:/GroupPJ/USTHGroupProject/Quang/Hand_Getsure_Clean/model save point/keypoint_classifier_lstm.keras\n",
      "\u001b[1m31/31\u001b[0m \u001b[32m━━━━━━━━━━━━━━━━━━━━\u001b[0m\u001b[37m\u001b[0m \u001b[1m7s\u001b[0m 233ms/step - accuracy: 0.9874 - loss: 0.0519 - val_accuracy: 0.9840 - val_loss: 0.0787\n",
      "Epoch 98/1000\n",
      "\u001b[1m31/31\u001b[0m \u001b[32m━━━━━━━━━━━━━━━━━━━━\u001b[0m\u001b[37m\u001b[0m \u001b[1m0s\u001b[0m 200ms/step - accuracy: 0.9822 - loss: 0.0680\n",
      "Epoch 98: saving model to C:/GroupPJ/USTHGroupProject/Quang/Hand_Getsure_Clean/model save point/keypoint_classifier_lstm.keras\n",
      "\u001b[1m31/31\u001b[0m \u001b[32m━━━━━━━━━━━━━━━━━━━━\u001b[0m\u001b[37m\u001b[0m \u001b[1m7s\u001b[0m 229ms/step - accuracy: 0.9822 - loss: 0.0683 - val_accuracy: 0.9855 - val_loss: 0.0540\n",
      "Epoch 99/1000\n",
      "\u001b[1m31/31\u001b[0m \u001b[32m━━━━━━━━━━━━━━━━━━━━\u001b[0m\u001b[37m\u001b[0m \u001b[1m0s\u001b[0m 201ms/step - accuracy: 0.9846 - loss: 0.0545\n",
      "Epoch 99: saving model to C:/GroupPJ/USTHGroupProject/Quang/Hand_Getsure_Clean/model save point/keypoint_classifier_lstm.keras\n",
      "\u001b[1m31/31\u001b[0m \u001b[32m━━━━━━━━━━━━━━━━━━━━\u001b[0m\u001b[37m\u001b[0m \u001b[1m7s\u001b[0m 230ms/step - accuracy: 0.9847 - loss: 0.0542 - val_accuracy: 0.9893 - val_loss: 0.0564\n",
      "Epoch 100/1000\n",
      "\u001b[1m31/31\u001b[0m \u001b[32m━━━━━━━━━━━━━━━━━━━━\u001b[0m\u001b[37m\u001b[0m \u001b[1m0s\u001b[0m 200ms/step - accuracy: 0.9915 - loss: 0.0384\n",
      "Epoch 100: saving model to C:/GroupPJ/USTHGroupProject/Quang/Hand_Getsure_Clean/model save point/keypoint_classifier_lstm.keras\n",
      "\u001b[1m31/31\u001b[0m \u001b[32m━━━━━━━━━━━━━━━━━━━━\u001b[0m\u001b[37m\u001b[0m \u001b[1m7s\u001b[0m 232ms/step - accuracy: 0.9914 - loss: 0.0384 - val_accuracy: 0.9886 - val_loss: 0.0534\n",
      "Epoch 101/1000\n",
      "\u001b[1m31/31\u001b[0m \u001b[32m━━━━━━━━━━━━━━━━━━━━\u001b[0m\u001b[37m\u001b[0m \u001b[1m0s\u001b[0m 201ms/step - accuracy: 0.9918 - loss: 0.0320\n",
      "Epoch 101: saving model to C:/GroupPJ/USTHGroupProject/Quang/Hand_Getsure_Clean/model save point/keypoint_classifier_lstm.keras\n",
      "\u001b[1m31/31\u001b[0m \u001b[32m━━━━━━━━━━━━━━━━━━━━\u001b[0m\u001b[37m\u001b[0m \u001b[1m7s\u001b[0m 235ms/step - accuracy: 0.9918 - loss: 0.0321 - val_accuracy: 0.9855 - val_loss: 0.0570\n",
      "Epoch 102/1000\n",
      "\u001b[1m31/31\u001b[0m \u001b[32m━━━━━━━━━━━━━━━━━━━━\u001b[0m\u001b[37m\u001b[0m \u001b[1m0s\u001b[0m 194ms/step - accuracy: 0.9922 - loss: 0.0326\n",
      "Epoch 102: saving model to C:/GroupPJ/USTHGroupProject/Quang/Hand_Getsure_Clean/model save point/keypoint_classifier_lstm.keras\n",
      "\u001b[1m31/31\u001b[0m \u001b[32m━━━━━━━━━━━━━━━━━━━━\u001b[0m\u001b[37m\u001b[0m \u001b[1m7s\u001b[0m 223ms/step - accuracy: 0.9922 - loss: 0.0327 - val_accuracy: 0.9931 - val_loss: 0.0378\n",
      "Epoch 103/1000\n",
      "\u001b[1m31/31\u001b[0m \u001b[32m━━━━━━━━━━━━━━━━━━━━\u001b[0m\u001b[37m\u001b[0m \u001b[1m0s\u001b[0m 196ms/step - accuracy: 0.9905 - loss: 0.0352\n",
      "Epoch 103: saving model to C:/GroupPJ/USTHGroupProject/Quang/Hand_Getsure_Clean/model save point/keypoint_classifier_lstm.keras\n",
      "\u001b[1m31/31\u001b[0m \u001b[32m━━━━━━━━━━━━━━━━━━━━\u001b[0m\u001b[37m\u001b[0m \u001b[1m7s\u001b[0m 228ms/step - accuracy: 0.9904 - loss: 0.0355 - val_accuracy: 0.9870 - val_loss: 0.0621\n",
      "Epoch 104/1000\n",
      "\u001b[1m31/31\u001b[0m \u001b[32m━━━━━━━━━━━━━━━━━━━━\u001b[0m\u001b[37m\u001b[0m \u001b[1m0s\u001b[0m 202ms/step - accuracy: 0.9821 - loss: 0.0698\n",
      "Epoch 104: saving model to C:/GroupPJ/USTHGroupProject/Quang/Hand_Getsure_Clean/model save point/keypoint_classifier_lstm.keras\n",
      "\u001b[1m31/31\u001b[0m \u001b[32m━━━━━━━━━━━━━━━━━━━━\u001b[0m\u001b[37m\u001b[0m \u001b[1m7s\u001b[0m 234ms/step - accuracy: 0.9821 - loss: 0.0699 - val_accuracy: 0.9718 - val_loss: 0.1319\n",
      "Epoch 105/1000\n",
      "\u001b[1m31/31\u001b[0m \u001b[32m━━━━━━━━━━━━━━━━━━━━\u001b[0m\u001b[37m\u001b[0m \u001b[1m0s\u001b[0m 204ms/step - accuracy: 0.9765 - loss: 0.0956\n",
      "Epoch 105: saving model to C:/GroupPJ/USTHGroupProject/Quang/Hand_Getsure_Clean/model save point/keypoint_classifier_lstm.keras\n",
      "\u001b[1m31/31\u001b[0m \u001b[32m━━━━━━━━━━━━━━━━━━━━\u001b[0m\u001b[37m\u001b[0m \u001b[1m7s\u001b[0m 234ms/step - accuracy: 0.9765 - loss: 0.0957 - val_accuracy: 0.9725 - val_loss: 0.0944\n",
      "Epoch 106/1000\n",
      "\u001b[1m31/31\u001b[0m \u001b[32m━━━━━━━━━━━━━━━━━━━━\u001b[0m\u001b[37m\u001b[0m \u001b[1m0s\u001b[0m 203ms/step - accuracy: 0.9819 - loss: 0.0765\n",
      "Epoch 106: saving model to C:/GroupPJ/USTHGroupProject/Quang/Hand_Getsure_Clean/model save point/keypoint_classifier_lstm.keras\n",
      "\u001b[1m31/31\u001b[0m \u001b[32m━━━━━━━━━━━━━━━━━━━━\u001b[0m\u001b[37m\u001b[0m \u001b[1m7s\u001b[0m 234ms/step - accuracy: 0.9820 - loss: 0.0762 - val_accuracy: 0.9825 - val_loss: 0.0685\n",
      "Epoch 107/1000\n",
      "\u001b[1m31/31\u001b[0m \u001b[32m━━━━━━━━━━━━━━━━━━━━\u001b[0m\u001b[37m\u001b[0m \u001b[1m0s\u001b[0m 195ms/step - accuracy: 0.9839 - loss: 0.0751\n",
      "Epoch 107: saving model to C:/GroupPJ/USTHGroupProject/Quang/Hand_Getsure_Clean/model save point/keypoint_classifier_lstm.keras\n",
      "\u001b[1m31/31\u001b[0m \u001b[32m━━━━━━━━━━━━━━━━━━━━\u001b[0m\u001b[37m\u001b[0m \u001b[1m7s\u001b[0m 227ms/step - accuracy: 0.9839 - loss: 0.0748 - val_accuracy: 0.9832 - val_loss: 0.0582\n",
      "Epoch 108/1000\n",
      "\u001b[1m31/31\u001b[0m \u001b[32m━━━━━━━━━━━━━━━━━━━━\u001b[0m\u001b[37m\u001b[0m \u001b[1m0s\u001b[0m 201ms/step - accuracy: 0.9865 - loss: 0.0482\n",
      "Epoch 108: saving model to C:/GroupPJ/USTHGroupProject/Quang/Hand_Getsure_Clean/model save point/keypoint_classifier_lstm.keras\n",
      "\u001b[1m31/31\u001b[0m \u001b[32m━━━━━━━━━━━━━━━━━━━━\u001b[0m\u001b[37m\u001b[0m \u001b[1m7s\u001b[0m 232ms/step - accuracy: 0.9866 - loss: 0.0482 - val_accuracy: 0.9832 - val_loss: 0.0696\n",
      "Epoch 109/1000\n",
      "\u001b[1m31/31\u001b[0m \u001b[32m━━━━━━━━━━━━━━━━━━━━\u001b[0m\u001b[37m\u001b[0m \u001b[1m0s\u001b[0m 205ms/step - accuracy: 0.9888 - loss: 0.0396\n",
      "Epoch 109: saving model to C:/GroupPJ/USTHGroupProject/Quang/Hand_Getsure_Clean/model save point/keypoint_classifier_lstm.keras\n",
      "\u001b[1m31/31\u001b[0m \u001b[32m━━━━━━━━━━━━━━━━━━━━\u001b[0m\u001b[37m\u001b[0m \u001b[1m7s\u001b[0m 236ms/step - accuracy: 0.9888 - loss: 0.0396 - val_accuracy: 0.9878 - val_loss: 0.0566\n",
      "Epoch 110/1000\n",
      "\u001b[1m31/31\u001b[0m \u001b[32m━━━━━━━━━━━━━━━━━━━━\u001b[0m\u001b[37m\u001b[0m \u001b[1m0s\u001b[0m 199ms/step - accuracy: 0.9928 - loss: 0.0310\n",
      "Epoch 110: saving model to C:/GroupPJ/USTHGroupProject/Quang/Hand_Getsure_Clean/model save point/keypoint_classifier_lstm.keras\n",
      "\u001b[1m31/31\u001b[0m \u001b[32m━━━━━━━━━━━━━━━━━━━━\u001b[0m\u001b[37m\u001b[0m \u001b[1m7s\u001b[0m 227ms/step - accuracy: 0.9928 - loss: 0.0310 - val_accuracy: 0.9886 - val_loss: 0.0433\n",
      "Epoch 111/1000\n",
      "\u001b[1m31/31\u001b[0m \u001b[32m━━━━━━━━━━━━━━━━━━━━\u001b[0m\u001b[37m\u001b[0m \u001b[1m0s\u001b[0m 188ms/step - accuracy: 0.9954 - loss: 0.0225\n",
      "Epoch 111: saving model to C:/GroupPJ/USTHGroupProject/Quang/Hand_Getsure_Clean/model save point/keypoint_classifier_lstm.keras\n",
      "\u001b[1m31/31\u001b[0m \u001b[32m━━━━━━━━━━━━━━━━━━━━\u001b[0m\u001b[37m\u001b[0m \u001b[1m7s\u001b[0m 217ms/step - accuracy: 0.9954 - loss: 0.0226 - val_accuracy: 0.9878 - val_loss: 0.0503\n",
      "Epoch 112/1000\n",
      "\u001b[1m31/31\u001b[0m \u001b[32m━━━━━━━━━━━━━━━━━━━━\u001b[0m\u001b[37m\u001b[0m \u001b[1m0s\u001b[0m 62s/step - accuracy: 0.9904 - loss: 0.0335  \n",
      "Epoch 112: saving model to C:/GroupPJ/USTHGroupProject/Quang/Hand_Getsure_Clean/model save point/keypoint_classifier_lstm.keras\n",
      "\u001b[1m31/31\u001b[0m \u001b[32m━━━━━━━━━━━━━━━━━━━━\u001b[0m\u001b[37m\u001b[0m \u001b[1m1860s\u001b[0m 62s/step - accuracy: 0.9903 - loss: 0.0340 - val_accuracy: 0.9817 - val_loss: 0.0937\n",
      "Epoch 113/1000\n",
      "\u001b[1m31/31\u001b[0m \u001b[32m━━━━━━━━━━━━━━━━━━━━\u001b[0m\u001b[37m\u001b[0m \u001b[1m0s\u001b[0m 219ms/step - accuracy: 0.9864 - loss: 0.0517\n",
      "Epoch 113: saving model to C:/GroupPJ/USTHGroupProject/Quang/Hand_Getsure_Clean/model save point/keypoint_classifier_lstm.keras\n",
      "\u001b[1m31/31\u001b[0m \u001b[32m━━━━━━━━━━━━━━━━━━━━\u001b[0m\u001b[37m\u001b[0m \u001b[1m8s\u001b[0m 255ms/step - accuracy: 0.9865 - loss: 0.0515 - val_accuracy: 0.9893 - val_loss: 0.0453\n",
      "Epoch 114/1000\n",
      "\u001b[1m31/31\u001b[0m \u001b[32m━━━━━━━━━━━━━━━━━━━━\u001b[0m\u001b[37m\u001b[0m \u001b[1m0s\u001b[0m 201ms/step - accuracy: 0.9902 - loss: 0.0378\n",
      "Epoch 114: saving model to C:/GroupPJ/USTHGroupProject/Quang/Hand_Getsure_Clean/model save point/keypoint_classifier_lstm.keras\n",
      "\u001b[1m31/31\u001b[0m \u001b[32m━━━━━━━━━━━━━━━━━━━━\u001b[0m\u001b[37m\u001b[0m \u001b[1m7s\u001b[0m 232ms/step - accuracy: 0.9902 - loss: 0.0378 - val_accuracy: 0.9908 - val_loss: 0.0547\n",
      "Epoch 115/1000\n",
      "\u001b[1m31/31\u001b[0m \u001b[32m━━━━━━━━━━━━━━━━━━━━\u001b[0m\u001b[37m\u001b[0m \u001b[1m0s\u001b[0m 198ms/step - accuracy: 0.9922 - loss: 0.0337\n",
      "Epoch 115: saving model to C:/GroupPJ/USTHGroupProject/Quang/Hand_Getsure_Clean/model save point/keypoint_classifier_lstm.keras\n",
      "\u001b[1m31/31\u001b[0m \u001b[32m━━━━━━━━━━━━━━━━━━━━\u001b[0m\u001b[37m\u001b[0m \u001b[1m7s\u001b[0m 227ms/step - accuracy: 0.9922 - loss: 0.0337 - val_accuracy: 0.9870 - val_loss: 0.0538\n",
      "Epoch 116/1000\n",
      "\u001b[1m31/31\u001b[0m \u001b[32m━━━━━━━━━━━━━━━━━━━━\u001b[0m\u001b[37m\u001b[0m \u001b[1m0s\u001b[0m 204ms/step - accuracy: 0.9857 - loss: 0.0465\n",
      "Epoch 116: saving model to C:/GroupPJ/USTHGroupProject/Quang/Hand_Getsure_Clean/model save point/keypoint_classifier_lstm.keras\n",
      "\u001b[1m31/31\u001b[0m \u001b[32m━━━━━━━━━━━━━━━━━━━━\u001b[0m\u001b[37m\u001b[0m \u001b[1m7s\u001b[0m 237ms/step - accuracy: 0.9858 - loss: 0.0464 - val_accuracy: 0.9878 - val_loss: 0.0632\n",
      "Epoch 117/1000\n",
      "\u001b[1m31/31\u001b[0m \u001b[32m━━━━━━━━━━━━━━━━━━━━\u001b[0m\u001b[37m\u001b[0m \u001b[1m0s\u001b[0m 197ms/step - accuracy: 0.9907 - loss: 0.0342\n",
      "Epoch 117: saving model to C:/GroupPJ/USTHGroupProject/Quang/Hand_Getsure_Clean/model save point/keypoint_classifier_lstm.keras\n",
      "\u001b[1m31/31\u001b[0m \u001b[32m━━━━━━━━━━━━━━━━━━━━\u001b[0m\u001b[37m\u001b[0m \u001b[1m7s\u001b[0m 227ms/step - accuracy: 0.9906 - loss: 0.0344 - val_accuracy: 0.9878 - val_loss: 0.0511\n",
      "Epoch 118/1000\n",
      "\u001b[1m31/31\u001b[0m \u001b[32m━━━━━━━━━━━━━━━━━━━━\u001b[0m\u001b[37m\u001b[0m \u001b[1m0s\u001b[0m 204ms/step - accuracy: 0.9937 - loss: 0.0252\n",
      "Epoch 118: saving model to C:/GroupPJ/USTHGroupProject/Quang/Hand_Getsure_Clean/model save point/keypoint_classifier_lstm.keras\n",
      "\u001b[1m31/31\u001b[0m \u001b[32m━━━━━━━━━━━━━━━━━━━━\u001b[0m\u001b[37m\u001b[0m \u001b[1m7s\u001b[0m 235ms/step - accuracy: 0.9936 - loss: 0.0253 - val_accuracy: 0.9901 - val_loss: 0.0474\n",
      "Epoch 119/1000\n",
      "\u001b[1m31/31\u001b[0m \u001b[32m━━━━━━━━━━━━━━━━━━━━\u001b[0m\u001b[37m\u001b[0m \u001b[1m0s\u001b[0m 201ms/step - accuracy: 0.9940 - loss: 0.0291\n",
      "Epoch 119: saving model to C:/GroupPJ/USTHGroupProject/Quang/Hand_Getsure_Clean/model save point/keypoint_classifier_lstm.keras\n",
      "\u001b[1m31/31\u001b[0m \u001b[32m━━━━━━━━━━━━━━━━━━━━\u001b[0m\u001b[37m\u001b[0m \u001b[1m7s\u001b[0m 230ms/step - accuracy: 0.9939 - loss: 0.0294 - val_accuracy: 0.9870 - val_loss: 0.0523\n",
      "Epoch 120/1000\n",
      "\u001b[1m31/31\u001b[0m \u001b[32m━━━━━━━━━━━━━━━━━━━━\u001b[0m\u001b[37m\u001b[0m \u001b[1m0s\u001b[0m 198ms/step - accuracy: 0.9919 - loss: 0.0313\n",
      "Epoch 120: saving model to C:/GroupPJ/USTHGroupProject/Quang/Hand_Getsure_Clean/model save point/keypoint_classifier_lstm.keras\n",
      "\u001b[1m31/31\u001b[0m \u001b[32m━━━━━━━━━━━━━━━━━━━━\u001b[0m\u001b[37m\u001b[0m \u001b[1m7s\u001b[0m 229ms/step - accuracy: 0.9919 - loss: 0.0315 - val_accuracy: 0.9855 - val_loss: 0.0417\n",
      "Epoch 121/1000\n",
      "\u001b[1m31/31\u001b[0m \u001b[32m━━━━━━━━━━━━━━━━━━━━\u001b[0m\u001b[37m\u001b[0m \u001b[1m0s\u001b[0m 185ms/step - accuracy: 0.9923 - loss: 0.0311\n",
      "Epoch 121: saving model to C:/GroupPJ/USTHGroupProject/Quang/Hand_Getsure_Clean/model save point/keypoint_classifier_lstm.keras\n",
      "\u001b[1m31/31\u001b[0m \u001b[32m━━━━━━━━━━━━━━━━━━━━\u001b[0m\u001b[37m\u001b[0m \u001b[1m7s\u001b[0m 219ms/step - accuracy: 0.9922 - loss: 0.0313 - val_accuracy: 0.9886 - val_loss: 0.0471\n",
      "Epoch 122/1000\n",
      "\u001b[1m31/31\u001b[0m \u001b[32m━━━━━━━━━━━━━━━━━━━━\u001b[0m\u001b[37m\u001b[0m \u001b[1m0s\u001b[0m 10s/step - accuracy: 0.9831 - loss: 0.0717 \n",
      "Epoch 122: saving model to C:/GroupPJ/USTHGroupProject/Quang/Hand_Getsure_Clean/model save point/keypoint_classifier_lstm.keras\n",
      "\u001b[1m31/31\u001b[0m \u001b[32m━━━━━━━━━━━━━━━━━━━━\u001b[0m\u001b[37m\u001b[0m \u001b[1m306s\u001b[0m 10s/step - accuracy: 0.9831 - loss: 0.0715 - val_accuracy: 0.9916 - val_loss: 0.0442\n",
      "Epoch 122: early stopping\n"
     ]
    }
   ],
   "source": [
    "hist = model.fit(\n",
    "    X_train,\n",
    "    y_train,\n",
    "    epochs=1000,\n",
    "    batch_size=128,\n",
    "    validation_data=(X_test, y_test),\n",
    "    callbacks=[cp_callback, early_stopping]\n",
    ")"
   ]
  },
  {
   "cell_type": "code",
   "execution_count": 78,
   "metadata": {},
   "outputs": [
    {
     "data": {
      "image/png": "[encoded data removed]",
      "text/plain": [
       "<Figure size 1400x600 with 2 Axes>"
      ]
     },
     "metadata": {},
     "output_type": "display_data"
    }
   ],
   "source": [
    "# Extract accuracy and loss data from the training history\n",
    "history_dict = hist.history\n",
    "\n",
    "# Create subplots: 1 row, 2 columns\n",
    "fig, ax = plt.subplots(1, 2, figsize=(14, 6))\n",
    "\n",
    "# Plot the training and validation loss\n",
    "ax[0].plot(history_dict['loss'], label='Training Loss', color='blue')\n",
    "ax[0].plot(history_dict['val_loss'], label='Validation Loss', color='red')\n",
    "ax[0].set_title('Training and Validation Loss')\n",
    "ax[0].set_xlabel('Epochs')\n",
    "ax[0].set_ylabel('Loss')\n",
    "ax[0].legend()\n",
    "\n",
    "# Plot the training and validation accuracy\n",
    "ax[1].plot(history_dict['accuracy'], label='Training Accuracy', color='blue')\n",
    "ax[1].plot(history_dict['val_accuracy'], label='Validation Accuracy', color='red')\n",
    "ax[1].set_title('Training and Validation Accuracy')\n",
    "ax[1].set_xlabel('Epochs')\n",
    "ax[1].set_ylabel('Accuracy')\n",
    "ax[1].legend()\n",
    "\n",
    "# Show the plots\n",
    "plt.tight_layout()\n",
    "plt.show()"
   ]
  },
  {
   "cell_type": "code",
   "execution_count": 79,
   "metadata": {},
   "outputs": [
    {
     "name": "stdout",
     "output_type": "stream",
     "text": [
      "\u001b[1m11/11\u001b[0m \u001b[32m━━━━━━━━━━━━━━━━━━━━\u001b[0m\u001b[37m\u001b[0m \u001b[1m1s\u001b[0m 69ms/step - accuracy: 0.9934 - loss: 0.0359\n"
     ]
    }
   ],
   "source": [
    "# Model evaluation\n",
    "val_loss, val_acc = model.evaluate(X_test, y_test, batch_size=128)"
   ]
  },
  {
   "cell_type": "code",
   "execution_count": 80,
   "metadata": {},
   "outputs": [],
   "source": [
    "# Loading the saved model\n",
    "model = tf.keras.models.load_model(model_save_path)"
   ]
  },
  {
   "cell_type": "code",
   "execution_count": 81,
   "metadata": {},
   "outputs": [
    {
     "name": "stdout",
     "output_type": "stream",
     "text": [
      "\u001b[1m1/1\u001b[0m \u001b[32m━━━━━━━━━━━━━━━━━━━━\u001b[0m\u001b[37m\u001b[0m \u001b[1m0s\u001b[0m 326ms/step\n",
      "[1.6364815e-05 1.9843537e-04 5.3036492e-04 9.9862027e-01 5.6093320e-04\n",
      " 7.3620635e-05]\n",
      "3\n"
     ]
    }
   ],
   "source": [
    "# Inference test\n",
    "predict_result = model.predict(np.array([X_test[0]]))\n",
    "print(np.squeeze(predict_result))\n",
    "print(np.argmax(np.squeeze(predict_result)))"
   ]
  },
  {
   "cell_type": "code",
   "execution_count": 82,
   "metadata": {},
   "outputs": [
    {
     "name": "stdout",
     "output_type": "stream",
     "text": [
      "\u001b[1m41/41\u001b[0m \u001b[32m━━━━━━━━━━━━━━━━━━━━\u001b[0m\u001b[37m\u001b[0m \u001b[1m1s\u001b[0m 24ms/step\n"
     ]
    },
    {
     "data": {
      "image/png": "[encoded data removed]",
      "text/plain": [
       "<Figure size 700x600 with 2 Axes>"
      ]
     },
     "metadata": {},
     "output_type": "display_data"
    },
    {
     "name": "stdout",
     "output_type": "stream",
     "text": [
      "Classification Report\n",
      "              precision    recall  f1-score   support\n",
      "\n",
      "           0       0.98      0.99      0.99       178\n",
      "           1       0.98      0.99      0.99       223\n",
      "           2       1.00      0.99      0.99       280\n",
      "           3       1.00      1.00      1.00       214\n",
      "           4       0.99      1.00      0.99       245\n",
      "           5       0.99      0.99      0.99       171\n",
      "\n",
      "    accuracy                           0.99      1311\n",
      "   macro avg       0.99      0.99      0.99      1311\n",
      "weighted avg       0.99      0.99      0.99      1311\n",
      "\n"
     ]
    }
   ],
   "source": [
    "def print_confusion_matrix(y_true, y_pred, report=True):\n",
    "    labels = sorted(list(set(y_true)))\n",
    "    cmx_data = confusion_matrix(y_true, y_pred, labels=labels)\n",
    "    \n",
    "    df_cmx = pd.DataFrame(cmx_data, index=labels, columns=labels)\n",
    " \n",
    "    fig, ax = plt.subplots(figsize=(7, 6))\n",
    "    sns.heatmap(df_cmx, annot=True, fmt='g' ,square=False)\n",
    "    ax.set_ylim(len(set(y_true)), 0)\n",
    "    plt.show()\n",
    "    \n",
    "    if report:\n",
    "        print('Classification Report')\n",
    "        print(classification_report(y_test, y_pred))\n",
    "\n",
    "Y_pred = model.predict(X_test)\n",
    "y_pred = np.argmax(Y_pred, axis=1)\n",
    "\n",
    "print_confusion_matrix(y_test, y_pred)"
   ]
  },
  {
   "cell_type": "code",
   "execution_count": 83,
   "metadata": {},
   "outputs": [
    {
     "data": {
      "text/html": [
       "<pre style=\"white-space:pre;overflow-x:auto;line-height:normal;font-family:Menlo,'DejaVu Sans Mono',consolas,'Courier New',monospace\"><span style=\"font-weight: bold\">Model: \"sequential_10\"</span>\n",
       "</pre>\n"
      ],
      "text/plain": [
       "\u001b[1mModel: \"sequential_10\"\u001b[0m\n"
      ]
     },
     "metadata": {},
     "output_type": "display_data"
    },
    {
     "data": {
      "text/html": [
       "<pre style=\"white-space:pre;overflow-x:auto;line-height:normal;font-family:Menlo,'DejaVu Sans Mono',consolas,'Courier New',monospace\">┏━━━━━━━━━━━━━━━━━━━━━━━━━━━━━━━━━┳━━━━━━━━━━━━━━━━━━━━━━━━┳━━━━━━━━━━━━━━━┓\n",
       "┃<span style=\"font-weight: bold\"> Layer (type)                    </span>┃<span style=\"font-weight: bold\"> Output Shape           </span>┃<span style=\"font-weight: bold\">       Param # </span>┃\n",
       "┡━━━━━━━━━━━━━━━━━━━━━━━━━━━━━━━━━╇━━━━━━━━━━━━━━━━━━━━━━━━╇━━━━━━━━━━━━━━━┩\n",
       "│ lstm_input (<span style=\"color: #0087ff; text-decoration-color: #0087ff\">LSTM</span>)               │ (<span style=\"color: #00d7ff; text-decoration-color: #00d7ff\">None</span>, <span style=\"color: #00af00; text-decoration-color: #00af00\">42</span>, <span style=\"color: #00af00; text-decoration-color: #00af00\">256</span>)        │       <span style=\"color: #00af00; text-decoration-color: #00af00\">264,192</span> │\n",
       "├─────────────────────────────────┼────────────────────────┼───────────────┤\n",
       "│ dropout_1 (<span style=\"color: #0087ff; text-decoration-color: #0087ff\">Dropout</span>)             │ (<span style=\"color: #00d7ff; text-decoration-color: #00d7ff\">None</span>, <span style=\"color: #00af00; text-decoration-color: #00af00\">42</span>, <span style=\"color: #00af00; text-decoration-color: #00af00\">256</span>)        │             <span style=\"color: #00af00; text-decoration-color: #00af00\">0</span> │\n",
       "├─────────────────────────────────┼────────────────────────┼───────────────┤\n",
       "│ lstm_1 (<span style=\"color: #0087ff; text-decoration-color: #0087ff\">LSTM</span>)                   │ (<span style=\"color: #00d7ff; text-decoration-color: #00d7ff\">None</span>, <span style=\"color: #00af00; text-decoration-color: #00af00\">42</span>, <span style=\"color: #00af00; text-decoration-color: #00af00\">128</span>)        │       <span style=\"color: #00af00; text-decoration-color: #00af00\">197,120</span> │\n",
       "├─────────────────────────────────┼────────────────────────┼───────────────┤\n",
       "│ dropout_2 (<span style=\"color: #0087ff; text-decoration-color: #0087ff\">Dropout</span>)             │ (<span style=\"color: #00d7ff; text-decoration-color: #00d7ff\">None</span>, <span style=\"color: #00af00; text-decoration-color: #00af00\">42</span>, <span style=\"color: #00af00; text-decoration-color: #00af00\">128</span>)        │             <span style=\"color: #00af00; text-decoration-color: #00af00\">0</span> │\n",
       "├─────────────────────────────────┼────────────────────────┼───────────────┤\n",
       "│ lstm_2 (<span style=\"color: #0087ff; text-decoration-color: #0087ff\">LSTM</span>)                   │ (<span style=\"color: #00d7ff; text-decoration-color: #00d7ff\">None</span>, <span style=\"color: #00af00; text-decoration-color: #00af00\">42</span>, <span style=\"color: #00af00; text-decoration-color: #00af00\">64</span>)         │        <span style=\"color: #00af00; text-decoration-color: #00af00\">49,408</span> │\n",
       "├─────────────────────────────────┼────────────────────────┼───────────────┤\n",
       "│ dropout_3 (<span style=\"color: #0087ff; text-decoration-color: #0087ff\">Dropout</span>)             │ (<span style=\"color: #00d7ff; text-decoration-color: #00d7ff\">None</span>, <span style=\"color: #00af00; text-decoration-color: #00af00\">42</span>, <span style=\"color: #00af00; text-decoration-color: #00af00\">64</span>)         │             <span style=\"color: #00af00; text-decoration-color: #00af00\">0</span> │\n",
       "├─────────────────────────────────┼────────────────────────┼───────────────┤\n",
       "│ lstm_3 (<span style=\"color: #0087ff; text-decoration-color: #0087ff\">LSTM</span>)                   │ (<span style=\"color: #00d7ff; text-decoration-color: #00d7ff\">None</span>, <span style=\"color: #00af00; text-decoration-color: #00af00\">16</span>)             │         <span style=\"color: #00af00; text-decoration-color: #00af00\">5,184</span> │\n",
       "├─────────────────────────────────┼────────────────────────┼───────────────┤\n",
       "│ dropout_4 (<span style=\"color: #0087ff; text-decoration-color: #0087ff\">Dropout</span>)             │ (<span style=\"color: #00d7ff; text-decoration-color: #00d7ff\">None</span>, <span style=\"color: #00af00; text-decoration-color: #00af00\">16</span>)             │             <span style=\"color: #00af00; text-decoration-color: #00af00\">0</span> │\n",
       "├─────────────────────────────────┼────────────────────────┼───────────────┤\n",
       "│ dense_1 (<span style=\"color: #0087ff; text-decoration-color: #0087ff\">Dense</span>)                 │ (<span style=\"color: #00d7ff; text-decoration-color: #00d7ff\">None</span>, <span style=\"color: #00af00; text-decoration-color: #00af00\">6</span>)              │           <span style=\"color: #00af00; text-decoration-color: #00af00\">102</span> │\n",
       "└─────────────────────────────────┴────────────────────────┴───────────────┘\n",
       "</pre>\n"
      ],
      "text/plain": [
       "┏━━━━━━━━━━━━━━━━━━━━━━━━━━━━━━━━━┳━━━━━━━━━━━━━━━━━━━━━━━━┳━━━━━━━━━━━━━━━┓\n",
       "┃\u001b[1m \u001b[0m\u001b[1mLayer (type)                   \u001b[0m\u001b[1m \u001b[0m┃\u001b[1m \u001b[0m\u001b[1mOutput Shape          \u001b[0m\u001b[1m \u001b[0m┃\u001b[1m \u001b[0m\u001b[1m      Param #\u001b[0m\u001b[1m \u001b[0m┃\n",
       "┡━━━━━━━━━━━━━━━━━━━━━━━━━━━━━━━━━╇━━━━━━━━━━━━━━━━━━━━━━━━╇━━━━━━━━━━━━━━━┩\n",
       "│ lstm_input (\u001b[38;5;33mLSTM\u001b[0m)               │ (\u001b[38;5;45mNone\u001b[0m, \u001b[38;5;34m42\u001b[0m, \u001b[38;5;34m256\u001b[0m)        │       \u001b[38;5;34m264,192\u001b[0m │\n",
       "├─────────────────────────────────┼────────────────────────┼───────────────┤\n",
       "│ dropout_1 (\u001b[38;5;33mDropout\u001b[0m)             │ (\u001b[38;5;45mNone\u001b[0m, \u001b[38;5;34m42\u001b[0m, \u001b[38;5;34m256\u001b[0m)        │             \u001b[38;5;34m0\u001b[0m │\n",
       "├─────────────────────────────────┼────────────────────────┼───────────────┤\n",
       "│ lstm_1 (\u001b[38;5;33mLSTM\u001b[0m)                   │ (\u001b[38;5;45mNone\u001b[0m, \u001b[38;5;34m42\u001b[0m, \u001b[38;5;34m128\u001b[0m)        │       \u001b[38;5;34m197,120\u001b[0m │\n",
       "├─────────────────────────────────┼────────────────────────┼───────────────┤\n",
       "│ dropout_2 (\u001b[38;5;33mDropout\u001b[0m)             │ (\u001b[38;5;45mNone\u001b[0m, \u001b[38;5;34m42\u001b[0m, \u001b[38;5;34m128\u001b[0m)        │             \u001b[38;5;34m0\u001b[0m │\n",
       "├─────────────────────────────────┼────────────────────────┼───────────────┤\n",
       "│ lstm_2 (\u001b[38;5;33mLSTM\u001b[0m)                   │ (\u001b[38;5;45mNone\u001b[0m, \u001b[38;5;34m42\u001b[0m, \u001b[38;5;34m64\u001b[0m)         │        \u001b[38;5;34m49,408\u001b[0m │\n",
       "├─────────────────────────────────┼────────────────────────┼───────────────┤\n",
       "│ dropout_3 (\u001b[38;5;33mDropout\u001b[0m)             │ (\u001b[38;5;45mNone\u001b[0m, \u001b[38;5;34m42\u001b[0m, \u001b[38;5;34m64\u001b[0m)         │             \u001b[38;5;34m0\u001b[0m │\n",
       "├─────────────────────────────────┼────────────────────────┼───────────────┤\n",
       "│ lstm_3 (\u001b[38;5;33mLSTM\u001b[0m)                   │ (\u001b[38;5;45mNone\u001b[0m, \u001b[38;5;34m16\u001b[0m)             │         \u001b[38;5;34m5,184\u001b[0m │\n",
       "├─────────────────────────────────┼────────────────────────┼───────────────┤\n",
       "│ dropout_4 (\u001b[38;5;33mDropout\u001b[0m)             │ (\u001b[38;5;45mNone\u001b[0m, \u001b[38;5;34m16\u001b[0m)             │             \u001b[38;5;34m0\u001b[0m │\n",
       "├─────────────────────────────────┼────────────────────────┼───────────────┤\n",
       "│ dense_1 (\u001b[38;5;33mDense\u001b[0m)                 │ (\u001b[38;5;45mNone\u001b[0m, \u001b[38;5;34m6\u001b[0m)              │           \u001b[38;5;34m102\u001b[0m │\n",
       "└─────────────────────────────────┴────────────────────────┴───────────────┘\n"
      ]
     },
     "metadata": {},
     "output_type": "display_data"
    },
    {
     "data": {
      "text/html": [
       "<pre style=\"white-space:pre;overflow-x:auto;line-height:normal;font-family:Menlo,'DejaVu Sans Mono',consolas,'Courier New',monospace\"><span style=\"font-weight: bold\"> Total params: </span><span style=\"color: #00af00; text-decoration-color: #00af00\">1,548,020</span> (5.91 MB)\n",
       "</pre>\n"
      ],
      "text/plain": [
       "\u001b[1m Total params: \u001b[0m\u001b[38;5;34m1,548,020\u001b[0m (5.91 MB)\n"
      ]
     },
     "metadata": {},
     "output_type": "display_data"
    },
    {
     "data": {
      "text/html": [
       "<pre style=\"white-space:pre;overflow-x:auto;line-height:normal;font-family:Menlo,'DejaVu Sans Mono',consolas,'Courier New',monospace\"><span style=\"font-weight: bold\"> Trainable params: </span><span style=\"color: #00af00; text-decoration-color: #00af00\">516,006</span> (1.97 MB)\n",
       "</pre>\n"
      ],
      "text/plain": [
       "\u001b[1m Trainable params: \u001b[0m\u001b[38;5;34m516,006\u001b[0m (1.97 MB)\n"
      ]
     },
     "metadata": {},
     "output_type": "display_data"
    },
    {
     "data": {
      "text/html": [
       "<pre style=\"white-space:pre;overflow-x:auto;line-height:normal;font-family:Menlo,'DejaVu Sans Mono',consolas,'Courier New',monospace\"><span style=\"font-weight: bold\"> Non-trainable params: </span><span style=\"color: #00af00; text-decoration-color: #00af00\">0</span> (0.00 B)\n",
       "</pre>\n"
      ],
      "text/plain": [
       "\u001b[1m Non-trainable params: \u001b[0m\u001b[38;5;34m0\u001b[0m (0.00 B)\n"
      ]
     },
     "metadata": {},
     "output_type": "display_data"
    },
    {
     "data": {
      "text/html": [
       "<pre style=\"white-space:pre;overflow-x:auto;line-height:normal;font-family:Menlo,'DejaVu Sans Mono',consolas,'Courier New',monospace\"><span style=\"font-weight: bold\"> Optimizer params: </span><span style=\"color: #00af00; text-decoration-color: #00af00\">1,032,014</span> (3.94 MB)\n",
       "</pre>\n"
      ],
      "text/plain": [
       "\u001b[1m Optimizer params: \u001b[0m\u001b[38;5;34m1,032,014\u001b[0m (3.94 MB)\n"
      ]
     },
     "metadata": {},
     "output_type": "display_data"
    }
   ],
   "source": [
    "model.save(model_save_path, include_optimizer=False)\n",
    "model.summary()"
   ]
  },
  {
   "cell_type": "code",
   "execution_count": 91,
   "metadata": {},
   "outputs": [
    {
     "name": "stdout",
     "output_type": "stream",
     "text": [
      "INFO:tensorflow:Assets written to: C:\\Users\\dangq\\AppData\\Local\\Temp\\tmplk9buqk2\\assets\n"
     ]
    },
    {
     "name": "stderr",
     "output_type": "stream",
     "text": [
      "INFO:tensorflow:Assets written to: C:\\Users\\dangq\\AppData\\Local\\Temp\\tmplk9buqk2\\assets\n"
     ]
    },
    {
     "name": "stdout",
     "output_type": "stream",
     "text": [
      "Saved artifact at 'C:\\Users\\dangq\\AppData\\Local\\Temp\\tmplk9buqk2'. The following endpoints are available:\n",
      "\n",
      "* Endpoint 'serve'\n",
      "  args_0 (POSITIONAL_ONLY): TensorSpec(shape=(None, 42, 1), dtype=tf.float32, name='input_layer_10')\n",
      "Output Type:\n",
      "  TensorSpec(shape=(None, 6), dtype=tf.float32, name=None)\n",
      "Captures:\n",
      "  1944610798080: TensorSpec(shape=(), dtype=tf.resource, name=None)\n",
      "  1944611066048: TensorSpec(shape=(), dtype=tf.resource, name=None)\n",
      "  1944611068864: TensorSpec(shape=(), dtype=tf.resource, name=None)\n",
      "  1944611077664: TensorSpec(shape=(), dtype=tf.resource, name=None)\n",
      "  1944611195184: TensorSpec(shape=(), dtype=tf.resource, name=None)\n",
      "  1944611195536: TensorSpec(shape=(), dtype=tf.resource, name=None)\n",
      "  1944611204336: TensorSpec(shape=(), dtype=tf.resource, name=None)\n",
      "  1944611206272: TensorSpec(shape=(), dtype=tf.resource, name=None)\n",
      "  1944611205920: TensorSpec(shape=(), dtype=tf.resource, name=None)\n",
      "  1944611329072: TensorSpec(shape=(), dtype=tf.resource, name=None)\n",
      "  1944611331712: TensorSpec(shape=(), dtype=tf.resource, name=None)\n",
      "  1944611325376: TensorSpec(shape=(), dtype=tf.resource, name=None)\n",
      "  1944611339456: TensorSpec(shape=(), dtype=tf.resource, name=None)\n",
      "  1944611338576: TensorSpec(shape=(), dtype=tf.resource, name=None)\n",
      "TFLite model saved to: model_quantized.tflite\n"
     ]
    }
   ],
   "source": [
    "# Transform model (quantization)\n",
    "converter = tf.lite.TFLiteConverter.from_keras_model(model)\n",
    "\n",
    "# Enable optimizations\n",
    "converter.optimizations = [tf.lite.Optimize.DEFAULT]\n",
    "\n",
    "# Enable resource variables and TensorFlow ops\n",
    "converter.experimental_enable_resource_variables = True\n",
    "converter.target_spec.supported_ops = [\n",
    "    tf.lite.OpsSet.TFLITE_BUILTINS,  # TensorFlow Lite built-in ops\n",
    "    tf.lite.OpsSet.SELECT_TF_OPS     # TensorFlow operations\n",
    "]\n",
    "\n",
    "# Convert the model\n",
    "tflite_quantized_model = converter.convert()\n",
    "\n",
    "# Save the converted model to a file\n",
    "# tflite_save_path = \"model_quantized.tflite\"\n",
    "with open(tflite_save_path, \"wb\") as f:\n",
    "    f.write(tflite_quantized_model)\n",
    "\n",
    "print(f\"TFLite model saved to: {tflite_save_path}\")\n"
   ]
  },
  {
   "cell_type": "code",
   "execution_count": 86,
   "metadata": {},
   "outputs": [],
   "source": [
    "# Transform model (quantization)\n",
    "\n",
    "# converter = tf.lite.TFLiteConverter.from_keras_model(model)\n",
    "# converter.optimizations = [tf.lite.Optimize.DEFAULT]\n",
    "# tflite_quantized_model = converter.convert()\n",
    "\n",
    "# open(tflite_save_path, 'wb').write(tflite_quantized_model)"
   ]
  },
  {
   "cell_type": "code",
   "execution_count": 87,
   "metadata": {},
   "outputs": [],
   "source": [
    "interpreter = tf.lite.Interpreter(model_path=tflite_save_path)\n",
    "interpreter.allocate_tensors()"
   ]
  },
  {
   "cell_type": "code",
   "execution_count": 88,
   "metadata": {},
   "outputs": [],
   "source": [
    "# Get I / O tensor\n",
    "input_details = interpreter.get_input_details()\n",
    "output_details = interpreter.get_output_details()"
   ]
  },
  {
   "cell_type": "code",
   "execution_count": 89,
   "metadata": {},
   "outputs": [
    {
     "name": "stdout",
     "output_type": "stream",
     "text": [
      "Input details: \n",
      " [{'name': 'serving_default_input_layer_10:0', 'index': 0, 'shape': array([ 1, 42,  1]), 'shape_signature': array([-1, 42,  1]), 'dtype': <class 'numpy.float32'>, 'quantization': (0.0, 0), 'quantization_parameters': {'scales': array([], dtype=float32), 'zero_points': array([], dtype=int32), 'quantized_dimension': 0}, 'sparsity_parameters': {}}]\n",
      "\n",
      "\n",
      "Onput details: \n",
      " [{'name': 'StatefulPartitionedCall_1:0', 'index': 75, 'shape': array([1, 6]), 'shape_signature': array([-1,  6]), 'dtype': <class 'numpy.float32'>, 'quantization': (0.0, 0), 'quantization_parameters': {'scales': array([], dtype=float32), 'zero_points': array([], dtype=int32), 'quantized_dimension': 0}, 'sparsity_parameters': {}}]\n"
     ]
    }
   ],
   "source": [
    "print('Input details: \\n',input_details)\n",
    "print('\\n')\n",
    "print('Onput details: \\n',output_details)"
   ]
  }
 ],
 "metadata": {
  "kernelspec": {
   "display_name": "Python 3",
   "language": "python",
   "name": "python3"
  },
  "language_info": {
   "codemirror_mode": {
    "name": "ipython",
    "version": 3
   },
   "file_extension": ".py",
   "mimetype": "text/x-python",
   "name": "python",
   "nbconvert_exporter": "python",
   "pygments_lexer": "ipython3",
   "version": "3.10.6"
  }
 },
 "nbformat": 4,
 "nbformat_minor": 2
}
